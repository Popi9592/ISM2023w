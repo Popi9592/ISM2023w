{
  "nbformat": 4,
  "nbformat_minor": 0,
  "metadata": {
    "colab": {
      "provenance": [],
      "gpuType": "T4",
      "mount_file_id": "1kemq0kNrsgk8niJO0uSq47xBh0S_QMRV",
      "authorship_tag": "ABX9TyNrt9/S9yrkBGtNqQRjs9BW",
      "include_colab_link": true
    },
    "kernelspec": {
      "name": "python3",
      "display_name": "Python 3"
    },
    "language_info": {
      "name": "python"
    },
    "accelerator": "GPU"
  },
  "cells": [
    {
      "cell_type": "markdown",
      "metadata": {
        "id": "view-in-github",
        "colab_type": "text"
      },
      "source": [
        "<a href=\"https://colab.research.google.com/github/ZeitDev/ISM2023w/blob/main/sanjay/phase2.ipynb\" target=\"_parent\"><img src=\"https://colab.research.google.com/assets/colab-badge.svg\" alt=\"Open In Colab\"/></a>"
      ]
    },
    {
      "cell_type": "markdown",
      "source": [
        "### Import Necessary Modules\n"
      ],
      "metadata": {
        "id": "CoRRXXFNU80m"
      }
    },
    {
      "cell_type": "code",
      "execution_count": 59,
      "metadata": {
        "id": "a8b2O-IcPyQ5"
      },
      "outputs": [],
      "source": [
        "import numpy as np\n",
        "import matplotlib.pyplot as plt\n",
        "import glob\n",
        "import cv2\n",
        "import pandas as pd\n",
        "from keras.models import Model, Sequential\n",
        "from keras.layers import Dense, Flatten, Conv2D, MaxPooling2D\n",
        "from keras.layers import BatchNormalization\n",
        "import os\n",
        "import seaborn as sns\n",
        "import skimage.io\n",
        "import skimage.color\n",
        "from skimage.feature import hog\n",
        "from skimage import exposure\n",
        "from sklearn.model_selection import train_test_split"
      ]
    },
    {
      "cell_type": "code",
      "source": [
        "from google.colab import drive\n",
        "drive.mount('/content/drive')"
      ],
      "metadata": {
        "id": "sJxF-8xKSC_S",
        "colab": {
          "base_uri": "https://localhost:8080/"
        },
        "outputId": "dc61c545-6517-4d18-b8d8-b3687c39c275"
      },
      "execution_count": 60,
      "outputs": [
        {
          "output_type": "stream",
          "name": "stdout",
          "text": [
            "Drive already mounted at /content/drive; to attempt to forcibly remount, call drive.mount(\"/content/drive\", force_remount=True).\n"
          ]
        }
      ]
    },
    {
      "cell_type": "markdown",
      "source": [
        "### Load Train Images"
      ],
      "metadata": {
        "id": "m2lAU5ZbU42X"
      }
    },
    {
      "cell_type": "code",
      "source": [
        "csv_data = pd.read_csv('/content/drive/MyDrive/ism_project_2023/train.csv',index_col=None)\n",
        "new=csv_data.sort_values(by=\"name\")\n",
        "image_folder = '/content/drive/MyDrive/ism_project_2023/train'\n",
        "train_images=[]\n",
        "train_labels=[]\n",
        "count=0\n",
        "count_fail=0\n",
        "SIZE=128\n",
        "for index, row in new.iterrows():\n",
        "  img_name=(row.iloc[0])+\".jpg\"\n",
        "  img_path = os.path.join(image_folder, img_name)\n",
        "  img_label=row.iloc[1]\n",
        "  train_labels.append(img_label)\n",
        "  if os.path.exists(img_path):\n",
        "    image = skimage.io.imread(img_path)\n",
        "    image=cv2.resize(image,(SIZE,SIZE))\n",
        "    train_images.append(image)\n",
        "    count+=1\n",
        "  else:\n",
        "      count_fail+=1\n",
        "\n",
        "count,count_fail\n",
        "len(train_images),len(train_labels)"
      ],
      "metadata": {
        "id": "vlLk8VloSLdN",
        "colab": {
          "base_uri": "https://localhost:8080/"
        },
        "outputId": "156afd4c-a075-47e5-e9c0-c8c2754a5ef2"
      },
      "execution_count": 61,
      "outputs": [
        {
          "output_type": "execute_result",
          "data": {
            "text/plain": [
              "(4021, 4021)"
            ]
          },
          "metadata": {},
          "execution_count": 61
        }
      ]
    },
    {
      "cell_type": "code",
      "source": [
        "train_images=np.array(train_images)\n",
        "train_labels=np.array(train_labels)"
      ],
      "metadata": {
        "id": "DZ6UbLXJhXz7"
      },
      "execution_count": 62,
      "outputs": []
    },
    {
      "cell_type": "markdown",
      "source": [
        "#### Test to load images as np.array"
      ],
      "metadata": {
        "id": "b4ulp2lkg8sa"
      }
    },
    {
      "cell_type": "markdown",
      "source": [
        "### Load Test Images\n"
      ],
      "metadata": {
        "id": "RpyLVgv3U1o0"
      }
    },
    {
      "cell_type": "code",
      "source": [
        "test_csv_data = pd.read_csv('/content/drive/MyDrive/ism_project_2023/test.csv',index_col=None)\n",
        "new=test_csv_data.sort_values(by=\"name\")\n",
        "image_folder = '/content/drive/MyDrive/ism_project_2023/test'\n",
        "test_images=[]\n",
        "test_labels=[]\n",
        "SIZE=128\n",
        "count=0\n",
        "count_fail=0\n",
        "for index, row in new.iterrows():\n",
        "  img_name=(row.iloc[0])+\".jpg\"\n",
        "  img_path = os.path.join(image_folder, img_name)\n",
        "  img_label=row.iloc[1]\n",
        "  test_labels.append(img_label)\n",
        "  if os.path.exists(img_path):\n",
        "    image = skimage.io.imread(img_path)\n",
        "    image=cv2.resize(image,(SIZE,SIZE))\n",
        "    image=cv2.cvtColor(image, cv2.COLOR_RGB2BGR)\n",
        "    test_images.append(image)\n",
        "    count+=1\n",
        "  else:\n",
        "      count_fail+=1\n",
        "\n",
        "count,count_fail,len(test_images),len(test_labels)"
      ],
      "metadata": {
        "id": "JYEokQ-MULpP",
        "colab": {
          "base_uri": "https://localhost:8080/"
        },
        "outputId": "2fadf40f-31b2-49b1-aac7-134c5210a2de"
      },
      "execution_count": 63,
      "outputs": [
        {
          "output_type": "execute_result",
          "data": {
            "text/plain": [
              "(2139, 0, 2139, 2139)"
            ]
          },
          "metadata": {},
          "execution_count": 63
        }
      ]
    },
    {
      "cell_type": "code",
      "source": [
        "test_images=np.array(test_images)\n",
        "test_labels=np.array(test_labels)"
      ],
      "metadata": {
        "id": "Yi50-p3SuUtI"
      },
      "execution_count": 64,
      "outputs": []
    },
    {
      "cell_type": "code",
      "source": [
        "activation = 'sigmoid'\n",
        "\n",
        "feature_extractor = Sequential()\n",
        "feature_extractor.add(Conv2D(32, 3, activation = activation, padding = 'same', input_shape = (SIZE, SIZE, 3)))\n",
        "feature_extractor.add(BatchNormalization())\n",
        "\n",
        "feature_extractor.add(Conv2D(32, 3, activation = activation, padding = 'same', kernel_initializer = 'he_uniform'))\n",
        "feature_extractor.add(BatchNormalization())\n",
        "feature_extractor.add(MaxPooling2D())\n",
        "\n",
        "feature_extractor.add(Conv2D(64, 3, activation = activation, padding = 'same', kernel_initializer = 'he_uniform'))\n",
        "feature_extractor.add(BatchNormalization())\n",
        "\n",
        "feature_extractor.add(Conv2D(64, 3, activation = activation, padding = 'same', kernel_initializer = 'he_uniform'))\n",
        "feature_extractor.add(BatchNormalization())\n",
        "feature_extractor.add(MaxPooling2D())\n",
        "\n",
        "feature_extractor.add(Flatten())\n"
      ],
      "metadata": {
        "id": "vfsLbNzrYpaC"
      },
      "execution_count": 65,
      "outputs": []
    },
    {
      "cell_type": "code",
      "source": [
        "x = feature_extractor.output\n",
        "x = Dense(128, activation = activation, kernel_initializer = 'he_uniform')(x)\n",
        "prediction_layer = Dense(4, activation = 'softmax')(x)"
      ],
      "metadata": {
        "id": "3RtWvHN8avZM"
      },
      "execution_count": 68,
      "outputs": []
    },
    {
      "cell_type": "code",
      "source": [
        "cnn_model = Model(inputs=feature_extractor.input, outputs=prediction_layer)\n",
        "cnn_model.compile(optimizer='rmsprop',loss = 'categorical_crossentropy', metrics = ['accuracy'])\n",
        "print(cnn_model.summary())"
      ],
      "metadata": {
        "id": "Sn0KzOhAawdL",
        "colab": {
          "base_uri": "https://localhost:8080/"
        },
        "outputId": "499ff08c-96f0-463a-d495-a61726d751df"
      },
      "execution_count": 67,
      "outputs": [
        {
          "output_type": "stream",
          "name": "stdout",
          "text": [
            "Model: \"model_3\"\n",
            "_________________________________________________________________\n",
            " Layer (type)                Output Shape              Param #   \n",
            "=================================================================\n",
            " conv2d_12_input (InputLaye  [(None, 128, 128, 3)]     0         \n",
            " r)                                                              \n",
            "                                                                 \n",
            " conv2d_12 (Conv2D)          (None, 128, 128, 32)      896       \n",
            "                                                                 \n",
            " batch_normalization_12 (Ba  (None, 128, 128, 32)      128       \n",
            " tchNormalization)                                               \n",
            "                                                                 \n",
            " conv2d_13 (Conv2D)          (None, 128, 128, 32)      9248      \n",
            "                                                                 \n",
            " batch_normalization_13 (Ba  (None, 128, 128, 32)      128       \n",
            " tchNormalization)                                               \n",
            "                                                                 \n",
            " max_pooling2d_6 (MaxPoolin  (None, 64, 64, 32)        0         \n",
            " g2D)                                                            \n",
            "                                                                 \n",
            " conv2d_14 (Conv2D)          (None, 64, 64, 64)        18496     \n",
            "                                                                 \n",
            " batch_normalization_14 (Ba  (None, 64, 64, 64)        256       \n",
            " tchNormalization)                                               \n",
            "                                                                 \n",
            " conv2d_15 (Conv2D)          (None, 64, 64, 64)        36928     \n",
            "                                                                 \n",
            " batch_normalization_15 (Ba  (None, 64, 64, 64)        256       \n",
            " tchNormalization)                                               \n",
            "                                                                 \n",
            " max_pooling2d_7 (MaxPoolin  (None, 32, 32, 64)        0         \n",
            " g2D)                                                            \n",
            "                                                                 \n",
            " flatten_3 (Flatten)         (None, 65536)             0         \n",
            "                                                                 \n",
            " dense_6 (Dense)             (None, 128)               8388736   \n",
            "                                                                 \n",
            " dense_7 (Dense)             (None, 4)                 516       \n",
            "                                                                 \n",
            "=================================================================\n",
            "Total params: 8455588 (32.26 MB)\n",
            "Trainable params: 8455204 (32.25 MB)\n",
            "Non-trainable params: 384 (1.50 KB)\n",
            "_________________________________________________________________\n",
            "None\n"
          ]
        }
      ]
    },
    {
      "cell_type": "code",
      "source": [
        "X_train, X_test, y_train, y_test = train_test_split(train_images, train_labels, test_size=0.2, random_state=42)\n",
        "X_train=X_train/255.0\n",
        "X_test=X_test/255.0\n",
        "len(X_train),len(X_test),len(train_images)"
      ],
      "metadata": {
        "id": "pHP1e54QVIor",
        "colab": {
          "base_uri": "https://localhost:8080/"
        },
        "outputId": "e28dc6c3-3f0a-428c-d906-9c930ebee620"
      },
      "execution_count": 69,
      "outputs": [
        {
          "output_type": "execute_result",
          "data": {
            "text/plain": [
              "(3216, 805, 4021)"
            ]
          },
          "metadata": {},
          "execution_count": 69
        }
      ]
    },
    {
      "cell_type": "code",
      "source": [
        "X_for_RF = feature_extractor.predict(X_train)\n",
        "from sklearn.ensemble import RandomForestClassifier\n",
        "RF_model = RandomForestClassifier(n_estimators = 50, random_state = 42)\n",
        "RF_model.fit(X_for_RF, y_train)"
      ],
      "metadata": {
        "id": "RRdL5NZdcG2p",
        "colab": {
          "base_uri": "https://localhost:8080/",
          "height": 92
        },
        "outputId": "0a6b1a14-7ad4-48c5-a4c2-499efb91f1d1"
      },
      "execution_count": 70,
      "outputs": [
        {
          "output_type": "stream",
          "name": "stdout",
          "text": [
            "101/101 [==============================] - 2s 15ms/step\n"
          ]
        },
        {
          "output_type": "execute_result",
          "data": {
            "text/plain": [
              "RandomForestClassifier(n_estimators=50, random_state=42)"
            ],
            "text/html": [
              "<style>#sk-container-id-4 {color: black;background-color: white;}#sk-container-id-4 pre{padding: 0;}#sk-container-id-4 div.sk-toggleable {background-color: white;}#sk-container-id-4 label.sk-toggleable__label {cursor: pointer;display: block;width: 100%;margin-bottom: 0;padding: 0.3em;box-sizing: border-box;text-align: center;}#sk-container-id-4 label.sk-toggleable__label-arrow:before {content: \"▸\";float: left;margin-right: 0.25em;color: #696969;}#sk-container-id-4 label.sk-toggleable__label-arrow:hover:before {color: black;}#sk-container-id-4 div.sk-estimator:hover label.sk-toggleable__label-arrow:before {color: black;}#sk-container-id-4 div.sk-toggleable__content {max-height: 0;max-width: 0;overflow: hidden;text-align: left;background-color: #f0f8ff;}#sk-container-id-4 div.sk-toggleable__content pre {margin: 0.2em;color: black;border-radius: 0.25em;background-color: #f0f8ff;}#sk-container-id-4 input.sk-toggleable__control:checked~div.sk-toggleable__content {max-height: 200px;max-width: 100%;overflow: auto;}#sk-container-id-4 input.sk-toggleable__control:checked~label.sk-toggleable__label-arrow:before {content: \"▾\";}#sk-container-id-4 div.sk-estimator input.sk-toggleable__control:checked~label.sk-toggleable__label {background-color: #d4ebff;}#sk-container-id-4 div.sk-label input.sk-toggleable__control:checked~label.sk-toggleable__label {background-color: #d4ebff;}#sk-container-id-4 input.sk-hidden--visually {border: 0;clip: rect(1px 1px 1px 1px);clip: rect(1px, 1px, 1px, 1px);height: 1px;margin: -1px;overflow: hidden;padding: 0;position: absolute;width: 1px;}#sk-container-id-4 div.sk-estimator {font-family: monospace;background-color: #f0f8ff;border: 1px dotted black;border-radius: 0.25em;box-sizing: border-box;margin-bottom: 0.5em;}#sk-container-id-4 div.sk-estimator:hover {background-color: #d4ebff;}#sk-container-id-4 div.sk-parallel-item::after {content: \"\";width: 100%;border-bottom: 1px solid gray;flex-grow: 1;}#sk-container-id-4 div.sk-label:hover label.sk-toggleable__label {background-color: #d4ebff;}#sk-container-id-4 div.sk-serial::before {content: \"\";position: absolute;border-left: 1px solid gray;box-sizing: border-box;top: 0;bottom: 0;left: 50%;z-index: 0;}#sk-container-id-4 div.sk-serial {display: flex;flex-direction: column;align-items: center;background-color: white;padding-right: 0.2em;padding-left: 0.2em;position: relative;}#sk-container-id-4 div.sk-item {position: relative;z-index: 1;}#sk-container-id-4 div.sk-parallel {display: flex;align-items: stretch;justify-content: center;background-color: white;position: relative;}#sk-container-id-4 div.sk-item::before, #sk-container-id-4 div.sk-parallel-item::before {content: \"\";position: absolute;border-left: 1px solid gray;box-sizing: border-box;top: 0;bottom: 0;left: 50%;z-index: -1;}#sk-container-id-4 div.sk-parallel-item {display: flex;flex-direction: column;z-index: 1;position: relative;background-color: white;}#sk-container-id-4 div.sk-parallel-item:first-child::after {align-self: flex-end;width: 50%;}#sk-container-id-4 div.sk-parallel-item:last-child::after {align-self: flex-start;width: 50%;}#sk-container-id-4 div.sk-parallel-item:only-child::after {width: 0;}#sk-container-id-4 div.sk-dashed-wrapped {border: 1px dashed gray;margin: 0 0.4em 0.5em 0.4em;box-sizing: border-box;padding-bottom: 0.4em;background-color: white;}#sk-container-id-4 div.sk-label label {font-family: monospace;font-weight: bold;display: inline-block;line-height: 1.2em;}#sk-container-id-4 div.sk-label-container {text-align: center;}#sk-container-id-4 div.sk-container {/* jupyter's `normalize.less` sets `[hidden] { display: none; }` but bootstrap.min.css set `[hidden] { display: none !important; }` so we also need the `!important` here to be able to override the default hidden behavior on the sphinx rendered scikit-learn.org. See: https://github.com/scikit-learn/scikit-learn/issues/21755 */display: inline-block !important;position: relative;}#sk-container-id-4 div.sk-text-repr-fallback {display: none;}</style><div id=\"sk-container-id-4\" class=\"sk-top-container\"><div class=\"sk-text-repr-fallback\"><pre>RandomForestClassifier(n_estimators=50, random_state=42)</pre><b>In a Jupyter environment, please rerun this cell to show the HTML representation or trust the notebook. <br />On GitHub, the HTML representation is unable to render, please try loading this page with nbviewer.org.</b></div><div class=\"sk-container\" hidden><div class=\"sk-item\"><div class=\"sk-estimator sk-toggleable\"><input class=\"sk-toggleable__control sk-hidden--visually\" id=\"sk-estimator-id-4\" type=\"checkbox\" checked><label for=\"sk-estimator-id-4\" class=\"sk-toggleable__label sk-toggleable__label-arrow\">RandomForestClassifier</label><div class=\"sk-toggleable__content\"><pre>RandomForestClassifier(n_estimators=50, random_state=42)</pre></div></div></div></div></div>"
            ]
          },
          "metadata": {},
          "execution_count": 70
        }
      ]
    },
    {
      "cell_type": "code",
      "source": [
        "X_test_feature=feature_extractor.predict(X_test)\n",
        "predictions_rf=RF_model.predict(X_test_feature)\n",
        "predictions_rf"
      ],
      "metadata": {
        "id": "U4lsfBW8isMy",
        "colab": {
          "base_uri": "https://localhost:8080/"
        },
        "outputId": "3a4210e3-9dad-4402-e7d2-936783e7673e"
      },
      "execution_count": 71,
      "outputs": [
        {
          "output_type": "stream",
          "name": "stdout",
          "text": [
            "26/26 [==============================] - 1s 24ms/step\n"
          ]
        },
        {
          "output_type": "execute_result",
          "data": {
            "text/plain": [
              "array([2, 0, 1, 0, 0, 2, 3, 2, 2, 3, 2, 2, 2, 0, 3, 2, 0, 0, 2, 1, 2, 2,\n",
              "       2, 0, 2, 3, 3, 2, 0, 0, 2, 2, 2, 1, 0, 2, 2, 2, 1, 2, 0, 1, 2, 2,\n",
              "       0, 0, 0, 0, 2, 0, 0, 0, 0, 0, 0, 0, 1, 2, 2, 2, 2, 2, 1, 2, 2, 2,\n",
              "       2, 0, 2, 2, 1, 2, 0, 3, 2, 3, 1, 0, 2, 0, 1, 0, 2, 3, 0, 0, 0, 3,\n",
              "       1, 0, 1, 2, 2, 0, 2, 2, 1, 2, 0, 2, 3, 3, 2, 2, 2, 0, 2, 0, 2, 0,\n",
              "       2, 0, 2, 2, 0, 2, 0, 1, 2, 0, 2, 2, 0, 0, 0, 0, 1, 2, 3, 0, 0, 2,\n",
              "       0, 0, 0, 2, 1, 3, 0, 0, 0, 0, 0, 2, 2, 3, 3, 1, 2, 1, 2, 1, 0, 3,\n",
              "       2, 2, 2, 3, 0, 0, 0, 3, 0, 0, 2, 2, 2, 2, 2, 0, 0, 0, 0, 2, 2, 2,\n",
              "       2, 2, 2, 1, 2, 0, 3, 0, 3, 1, 0, 2, 0, 2, 2, 1, 2, 2, 2, 3, 2, 2,\n",
              "       0, 2, 0, 2, 2, 2, 0, 0, 3, 2, 2, 2, 0, 2, 2, 2, 3, 2, 2, 0, 0, 3,\n",
              "       0, 0, 3, 0, 1, 2, 0, 2, 2, 1, 2, 2, 3, 2, 2, 2, 0, 1, 2, 2, 0, 2,\n",
              "       0, 2, 0, 0, 0, 1, 0, 0, 3, 2, 2, 2, 2, 0, 1, 2, 1, 2, 2, 0, 0, 2,\n",
              "       0, 2, 2, 0, 2, 2, 2, 0, 0, 0, 1, 2, 3, 2, 2, 0, 0, 2, 2, 2, 1, 2,\n",
              "       2, 2, 2, 0, 2, 0, 2, 0, 0, 1, 2, 1, 1, 1, 1, 2, 2, 3, 0, 2, 2, 0,\n",
              "       2, 2, 1, 2, 2, 3, 2, 3, 2, 2, 0, 2, 2, 0, 0, 1, 2, 2, 2, 2, 2, 2,\n",
              "       2, 0, 0, 0, 3, 0, 2, 0, 2, 2, 2, 0, 2, 2, 0, 3, 2, 0, 2, 2, 2, 2,\n",
              "       0, 2, 2, 0, 0, 1, 0, 2, 1, 0, 0, 0, 2, 0, 0, 2, 0, 1, 3, 0, 0, 0,\n",
              "       0, 2, 0, 0, 2, 2, 2, 0, 0, 0, 2, 2, 0, 0, 1, 2, 2, 0, 2, 2, 0, 0,\n",
              "       0, 2, 2, 2, 2, 3, 0, 2, 2, 2, 1, 0, 2, 2, 0, 0, 0, 2, 2, 0, 2, 3,\n",
              "       2, 0, 2, 0, 2, 2, 0, 2, 0, 1, 2, 0, 0, 0, 2, 2, 2, 0, 0, 2, 2, 0,\n",
              "       2, 0, 2, 2, 2, 2, 2, 0, 2, 0, 0, 0, 1, 1, 2, 3, 2, 2, 2, 2, 2, 2,\n",
              "       2, 2, 2, 2, 2, 0, 0, 0, 2, 0, 0, 2, 0, 2, 2, 2, 0, 0, 0, 2, 0, 2,\n",
              "       2, 1, 0, 2, 3, 2, 0, 0, 0, 2, 2, 2, 2, 2, 2, 2, 2, 0, 2, 0, 0, 2,\n",
              "       0, 0, 2, 2, 2, 2, 3, 2, 0, 2, 3, 2, 0, 1, 2, 2, 2, 2, 2, 1, 2, 0,\n",
              "       1, 2, 1, 2, 0, 2, 2, 0, 0, 1, 2, 2, 0, 1, 3, 2, 0, 2, 2, 0, 2, 2,\n",
              "       0, 0, 2, 2, 2, 2, 1, 2, 2, 0, 2, 2, 2, 2, 2, 1, 2, 2, 3, 2, 1, 0,\n",
              "       2, 1, 1, 0, 2, 2, 2, 0, 2, 1, 2, 2, 2, 1, 2, 2, 2, 1, 2, 3, 2, 0,\n",
              "       0, 2, 2, 3, 2, 0, 3, 2, 2, 2, 2, 0, 3, 2, 0, 2, 0, 3, 0, 2, 0, 2,\n",
              "       0, 2, 2, 2, 2, 2, 2, 3, 2, 2, 0, 3, 0, 2, 3, 2, 2, 0, 2, 2, 2, 0,\n",
              "       2, 0, 2, 0, 2, 2, 2, 0, 2, 2, 2, 2, 2, 2, 2, 3, 0, 0, 0, 2, 0, 2,\n",
              "       1, 2, 2, 2, 2, 1, 0, 2, 2, 2, 0, 0, 0, 2, 2, 2, 2, 2, 1, 2, 0, 2,\n",
              "       2, 2, 2, 0, 2, 1, 1, 3, 1, 0, 0, 2, 2, 2, 2, 2, 0, 2, 1, 0, 0, 0,\n",
              "       0, 2, 2, 0, 0, 2, 2, 2, 3, 2, 2, 0, 0, 0, 2, 2, 0, 2, 1, 2, 2, 2,\n",
              "       3, 0, 0, 0, 0, 2, 0, 2, 2, 0, 2, 2, 3, 0, 2, 0, 2, 2, 2, 2, 2, 2,\n",
              "       0, 0, 3, 0, 0, 2, 0, 2, 0, 3, 2, 0, 3, 0, 2, 0, 2, 2, 2, 0, 2, 0,\n",
              "       0, 0, 3, 0, 0, 1, 0, 2, 0, 0, 2, 2, 0, 2, 2, 2, 3, 0, 0, 0, 0, 2,\n",
              "       1, 0, 1, 0, 2, 2, 0, 1, 2, 0, 2, 2, 2])"
            ]
          },
          "metadata": {},
          "execution_count": 71
        }
      ]
    },
    {
      "cell_type": "code",
      "source": [
        "from sklearn import metrics\n",
        "print (\"Accuracy = \", metrics.accuracy_score(y_test, predictions_rf))\n"
      ],
      "metadata": {
        "id": "rz913FZ1jNRz",
        "colab": {
          "base_uri": "https://localhost:8080/"
        },
        "outputId": "307ce327-d618-46b0-bd6c-6e171a627a5b"
      },
      "execution_count": 72,
      "outputs": [
        {
          "output_type": "stream",
          "name": "stdout",
          "text": [
            "Accuracy =  0.5254658385093167\n"
          ]
        }
      ]
    },
    {
      "cell_type": "code",
      "source": [
        "from sklearn.metrics import accuracy_score, f1_score, recall_score, precision_score\n",
        "def get_metrics(labels, predictions):\n",
        "    accuracy = accuracy_score(labels, predictions)\n",
        "    f1 = f1_score(labels, predictions, average='macro')\n",
        "    recall = recall_score(labels, predictions, average='macro')\n",
        "    precision = precision_score(labels, predictions, average='macro')\n",
        "    return accuracy, f1, recall, precision"
      ],
      "metadata": {
        "id": "gHfpl9zdYidP"
      },
      "execution_count": 22,
      "outputs": []
    },
    {
      "cell_type": "code",
      "source": [
        "np.shape(X_train)"
      ],
      "metadata": {
        "id": "XDMhf3HMl_tS"
      },
      "execution_count": null,
      "outputs": []
    },
    {
      "cell_type": "code",
      "source": [
        "from keras.utils import to_categorical\n",
        "y_train = to_categorical(y_train)\n",
        "y_test = to_categorical(y_test)"
      ],
      "metadata": {
        "id": "Cey_ukH6m7zy"
      },
      "execution_count": 73,
      "outputs": []
    },
    {
      "cell_type": "code",
      "source": [
        "#Train the CNN model\n",
        "history = cnn_model.fit(X_train, y_train, epochs=150, validation_data = (X_test, y_test))"
      ],
      "metadata": {
        "id": "6Rzct6svlmpP",
        "colab": {
          "base_uri": "https://localhost:8080/"
        },
        "outputId": "87d8f4b0-010c-4d92-cf15-d381b9d77bfb"
      },
      "execution_count": 82,
      "outputs": [
        {
          "output_type": "stream",
          "name": "stdout",
          "text": [
            "Epoch 1/150\n",
            "101/101 [==============================] - 6s 56ms/step - loss: 0.0020 - accuracy: 1.0000 - val_loss: 4.3889 - val_accuracy: 0.5391\n",
            "Epoch 2/150\n",
            "101/101 [==============================] - 5s 51ms/step - loss: 0.0014 - accuracy: 1.0000 - val_loss: 4.0947 - val_accuracy: 0.4720\n",
            "Epoch 3/150\n",
            "101/101 [==============================] - 5s 50ms/step - loss: 0.0066 - accuracy: 0.9988 - val_loss: 2.8699 - val_accuracy: 0.5913\n",
            "Epoch 4/150\n",
            "101/101 [==============================] - 5s 50ms/step - loss: 0.0042 - accuracy: 0.9988 - val_loss: 2.6049 - val_accuracy: 0.5453\n",
            "Epoch 5/150\n",
            "101/101 [==============================] - 5s 49ms/step - loss: 0.0043 - accuracy: 0.9994 - val_loss: 3.3192 - val_accuracy: 0.5627\n",
            "Epoch 6/150\n",
            "101/101 [==============================] - 5s 48ms/step - loss: 0.0030 - accuracy: 0.9988 - val_loss: 2.7877 - val_accuracy: 0.6087\n",
            "Epoch 7/150\n",
            "101/101 [==============================] - 5s 54ms/step - loss: 0.0010 - accuracy: 1.0000 - val_loss: 3.3787 - val_accuracy: 0.5888\n",
            "Epoch 8/150\n",
            "101/101 [==============================] - 5s 51ms/step - loss: 0.0035 - accuracy: 0.9991 - val_loss: 2.4041 - val_accuracy: 0.5975\n",
            "Epoch 9/150\n",
            "101/101 [==============================] - 5s 49ms/step - loss: 0.0019 - accuracy: 0.9994 - val_loss: 2.7578 - val_accuracy: 0.5180\n",
            "Epoch 10/150\n",
            "101/101 [==============================] - 5s 52ms/step - loss: 8.8360e-04 - accuracy: 1.0000 - val_loss: 4.9495 - val_accuracy: 0.4311\n",
            "Epoch 11/150\n",
            "101/101 [==============================] - 5s 51ms/step - loss: 0.0013 - accuracy: 1.0000 - val_loss: 3.5628 - val_accuracy: 0.5677\n",
            "Epoch 12/150\n",
            "101/101 [==============================] - 5s 48ms/step - loss: 0.0016 - accuracy: 1.0000 - val_loss: 2.3434 - val_accuracy: 0.6124\n",
            "Epoch 13/150\n",
            "101/101 [==============================] - 5s 50ms/step - loss: 8.8671e-04 - accuracy: 1.0000 - val_loss: 2.8399 - val_accuracy: 0.5615\n",
            "Epoch 14/150\n",
            "101/101 [==============================] - 5s 48ms/step - loss: 0.0051 - accuracy: 0.9978 - val_loss: 7.4633 - val_accuracy: 0.4360\n",
            "Epoch 15/150\n",
            "101/101 [==============================] - 5s 48ms/step - loss: 0.0068 - accuracy: 0.9984 - val_loss: 2.9774 - val_accuracy: 0.5342\n",
            "Epoch 16/150\n",
            "101/101 [==============================] - 5s 50ms/step - loss: 0.0013 - accuracy: 1.0000 - val_loss: 6.7438 - val_accuracy: 0.3453\n",
            "Epoch 17/150\n",
            "101/101 [==============================] - 5s 48ms/step - loss: 0.0010 - accuracy: 1.0000 - val_loss: 4.6520 - val_accuracy: 0.5217\n",
            "Epoch 18/150\n",
            "101/101 [==============================] - 5s 51ms/step - loss: 9.0113e-04 - accuracy: 1.0000 - val_loss: 3.2017 - val_accuracy: 0.5988\n",
            "Epoch 19/150\n",
            "101/101 [==============================] - 5s 53ms/step - loss: 0.0033 - accuracy: 0.9994 - val_loss: 7.6520 - val_accuracy: 0.3180\n",
            "Epoch 20/150\n",
            "101/101 [==============================] - 5s 51ms/step - loss: 0.0018 - accuracy: 0.9997 - val_loss: 4.3946 - val_accuracy: 0.5789\n",
            "Epoch 21/150\n",
            "101/101 [==============================] - 5s 51ms/step - loss: 0.0026 - accuracy: 0.9994 - val_loss: 2.4126 - val_accuracy: 0.6099\n",
            "Epoch 22/150\n",
            "101/101 [==============================] - 5s 50ms/step - loss: 0.0016 - accuracy: 0.9997 - val_loss: 2.6365 - val_accuracy: 0.5714\n",
            "Epoch 23/150\n",
            "101/101 [==============================] - 5s 48ms/step - loss: 0.0025 - accuracy: 0.9997 - val_loss: 2.4331 - val_accuracy: 0.6037\n",
            "Epoch 24/150\n",
            "101/101 [==============================] - 5s 50ms/step - loss: 9.1912e-04 - accuracy: 1.0000 - val_loss: 3.8227 - val_accuracy: 0.4484\n",
            "Epoch 25/150\n",
            "101/101 [==============================] - 5s 50ms/step - loss: 4.0359e-04 - accuracy: 1.0000 - val_loss: 2.4418 - val_accuracy: 0.5975\n",
            "Epoch 26/150\n",
            "101/101 [==============================] - 5s 49ms/step - loss: 7.4894e-04 - accuracy: 1.0000 - val_loss: 6.8270 - val_accuracy: 0.4807\n",
            "Epoch 27/150\n",
            "101/101 [==============================] - 5s 52ms/step - loss: 0.0172 - accuracy: 0.9960 - val_loss: 3.5937 - val_accuracy: 0.5863\n",
            "Epoch 28/150\n",
            "101/101 [==============================] - 5s 50ms/step - loss: 6.1286e-04 - accuracy: 1.0000 - val_loss: 3.7570 - val_accuracy: 0.5193\n",
            "Epoch 29/150\n",
            "101/101 [==============================] - 5s 51ms/step - loss: 0.0024 - accuracy: 0.9994 - val_loss: 5.5728 - val_accuracy: 0.4012\n",
            "Epoch 30/150\n",
            "101/101 [==============================] - 5s 50ms/step - loss: 9.2248e-04 - accuracy: 1.0000 - val_loss: 4.2116 - val_accuracy: 0.5056\n",
            "Epoch 31/150\n",
            "101/101 [==============================] - 5s 49ms/step - loss: 8.2555e-04 - accuracy: 1.0000 - val_loss: 2.8897 - val_accuracy: 0.5901\n",
            "Epoch 32/150\n",
            "101/101 [==============================] - 5s 48ms/step - loss: 0.0013 - accuracy: 0.9997 - val_loss: 6.2866 - val_accuracy: 0.3826\n",
            "Epoch 33/150\n",
            "101/101 [==============================] - 5s 53ms/step - loss: 5.9145e-04 - accuracy: 1.0000 - val_loss: 2.3973 - val_accuracy: 0.6509\n",
            "Epoch 34/150\n",
            "101/101 [==============================] - 5s 51ms/step - loss: 9.6706e-04 - accuracy: 1.0000 - val_loss: 3.1983 - val_accuracy: 0.5851\n",
            "Epoch 35/150\n",
            "101/101 [==============================] - 5s 48ms/step - loss: 9.4494e-04 - accuracy: 1.0000 - val_loss: 2.7711 - val_accuracy: 0.5801\n",
            "Epoch 36/150\n",
            "101/101 [==============================] - 5s 54ms/step - loss: 0.0020 - accuracy: 0.9994 - val_loss: 2.5706 - val_accuracy: 0.6323\n",
            "Epoch 37/150\n",
            "101/101 [==============================] - 5s 49ms/step - loss: 4.3221e-04 - accuracy: 1.0000 - val_loss: 2.5881 - val_accuracy: 0.6323\n",
            "Epoch 38/150\n",
            "101/101 [==============================] - 5s 51ms/step - loss: 0.0025 - accuracy: 0.9997 - val_loss: 2.8601 - val_accuracy: 0.6211\n",
            "Epoch 39/150\n",
            "101/101 [==============================] - 5s 51ms/step - loss: 3.9739e-04 - accuracy: 1.0000 - val_loss: 2.5879 - val_accuracy: 0.5988\n",
            "Epoch 40/150\n",
            "101/101 [==============================] - 5s 48ms/step - loss: 4.0244e-04 - accuracy: 1.0000 - val_loss: 3.9042 - val_accuracy: 0.5217\n",
            "Epoch 41/150\n",
            "101/101 [==============================] - 5s 49ms/step - loss: 7.9320e-04 - accuracy: 1.0000 - val_loss: 2.8460 - val_accuracy: 0.5814\n",
            "Epoch 42/150\n",
            "101/101 [==============================] - 5s 51ms/step - loss: 0.0019 - accuracy: 0.9997 - val_loss: 2.5563 - val_accuracy: 0.5888\n",
            "Epoch 43/150\n",
            "101/101 [==============================] - 5s 51ms/step - loss: 0.0027 - accuracy: 0.9991 - val_loss: 3.0283 - val_accuracy: 0.6174\n",
            "Epoch 44/150\n",
            "101/101 [==============================] - 5s 51ms/step - loss: 8.1676e-04 - accuracy: 0.9997 - val_loss: 2.8311 - val_accuracy: 0.6037\n",
            "Epoch 45/150\n",
            "101/101 [==============================] - 5s 50ms/step - loss: 0.0022 - accuracy: 0.9997 - val_loss: 2.7476 - val_accuracy: 0.6348\n",
            "Epoch 46/150\n",
            "101/101 [==============================] - 5s 51ms/step - loss: 0.0012 - accuracy: 0.9997 - val_loss: 3.3381 - val_accuracy: 0.4857\n",
            "Epoch 47/150\n",
            "101/101 [==============================] - 5s 49ms/step - loss: 0.0022 - accuracy: 0.9994 - val_loss: 2.5795 - val_accuracy: 0.6025\n",
            "Epoch 48/150\n",
            "101/101 [==============================] - 5s 50ms/step - loss: 0.0026 - accuracy: 0.9994 - val_loss: 3.2068 - val_accuracy: 0.5888\n",
            "Epoch 49/150\n",
            "101/101 [==============================] - 5s 48ms/step - loss: 9.2936e-04 - accuracy: 0.9997 - val_loss: 2.7486 - val_accuracy: 0.6062\n",
            "Epoch 50/150\n",
            "101/101 [==============================] - 5s 52ms/step - loss: 7.9234e-04 - accuracy: 1.0000 - val_loss: 4.8887 - val_accuracy: 0.5043\n",
            "Epoch 51/150\n",
            "101/101 [==============================] - 5s 51ms/step - loss: 2.4440e-04 - accuracy: 1.0000 - val_loss: 2.5449 - val_accuracy: 0.6186\n",
            "Epoch 52/150\n",
            "101/101 [==============================] - 5s 48ms/step - loss: 5.0123e-04 - accuracy: 1.0000 - val_loss: 2.4761 - val_accuracy: 0.6224\n",
            "Epoch 53/150\n",
            "101/101 [==============================] - 5s 52ms/step - loss: 2.7193e-04 - accuracy: 1.0000 - val_loss: 2.9861 - val_accuracy: 0.6087\n",
            "Epoch 54/150\n",
            "101/101 [==============================] - 5s 50ms/step - loss: 2.2641e-04 - accuracy: 1.0000 - val_loss: 5.7950 - val_accuracy: 0.3863\n",
            "Epoch 55/150\n",
            "101/101 [==============================] - 5s 49ms/step - loss: 2.3441e-04 - accuracy: 1.0000 - val_loss: 2.7366 - val_accuracy: 0.6273\n",
            "Epoch 56/150\n",
            "101/101 [==============================] - 5s 51ms/step - loss: 2.9675e-04 - accuracy: 1.0000 - val_loss: 8.5621 - val_accuracy: 0.3193\n",
            "Epoch 57/150\n",
            "101/101 [==============================] - 5s 52ms/step - loss: 2.9225e-04 - accuracy: 1.0000 - val_loss: 3.4728 - val_accuracy: 0.5416\n",
            "Epoch 58/150\n",
            "101/101 [==============================] - 5s 49ms/step - loss: 2.3804e-04 - accuracy: 1.0000 - val_loss: 2.9410 - val_accuracy: 0.5466\n",
            "Epoch 59/150\n",
            "101/101 [==============================] - 5s 50ms/step - loss: 3.2640e-04 - accuracy: 1.0000 - val_loss: 2.9705 - val_accuracy: 0.6199\n",
            "Epoch 60/150\n",
            "101/101 [==============================] - 5s 52ms/step - loss: 4.6028e-04 - accuracy: 1.0000 - val_loss: 7.7027 - val_accuracy: 0.3404\n",
            "Epoch 61/150\n",
            "101/101 [==============================] - 5s 48ms/step - loss: 5.4653e-04 - accuracy: 0.9997 - val_loss: 4.2599 - val_accuracy: 0.5814\n",
            "Epoch 62/150\n",
            "101/101 [==============================] - 5s 53ms/step - loss: 1.9057e-04 - accuracy: 1.0000 - val_loss: 3.0727 - val_accuracy: 0.6050\n",
            "Epoch 63/150\n",
            "101/101 [==============================] - 5s 51ms/step - loss: 2.1486e-04 - accuracy: 1.0000 - val_loss: 3.2012 - val_accuracy: 0.6062\n",
            "Epoch 64/150\n",
            "101/101 [==============================] - 5s 51ms/step - loss: 2.9391e-04 - accuracy: 1.0000 - val_loss: 3.0250 - val_accuracy: 0.6075\n",
            "Epoch 65/150\n",
            "101/101 [==============================] - 5s 51ms/step - loss: 5.0482e-04 - accuracy: 1.0000 - val_loss: 3.0582 - val_accuracy: 0.6112\n",
            "Epoch 66/150\n",
            "101/101 [==============================] - 5s 49ms/step - loss: 2.8051e-04 - accuracy: 1.0000 - val_loss: 2.5702 - val_accuracy: 0.6410\n",
            "Epoch 67/150\n",
            "101/101 [==============================] - 5s 51ms/step - loss: 1.3347e-04 - accuracy: 1.0000 - val_loss: 3.0035 - val_accuracy: 0.5615\n",
            "Epoch 68/150\n",
            "101/101 [==============================] - 5s 53ms/step - loss: 3.9472e-04 - accuracy: 1.0000 - val_loss: 2.5583 - val_accuracy: 0.6174\n",
            "Epoch 69/150\n",
            "101/101 [==============================] - 5s 51ms/step - loss: 1.8727e-04 - accuracy: 1.0000 - val_loss: 2.8822 - val_accuracy: 0.6137\n",
            "Epoch 70/150\n",
            "101/101 [==============================] - 5s 52ms/step - loss: 1.9256e-04 - accuracy: 1.0000 - val_loss: 3.2516 - val_accuracy: 0.6137\n",
            "Epoch 71/150\n",
            "101/101 [==============================] - 5s 53ms/step - loss: 6.2830e-04 - accuracy: 0.9997 - val_loss: 2.6062 - val_accuracy: 0.6348\n",
            "Epoch 72/150\n",
            "101/101 [==============================] - 5s 48ms/step - loss: 2.5647e-04 - accuracy: 1.0000 - val_loss: 2.6664 - val_accuracy: 0.6050\n",
            "Epoch 73/150\n",
            "101/101 [==============================] - 5s 52ms/step - loss: 1.1096e-04 - accuracy: 1.0000 - val_loss: 3.1101 - val_accuracy: 0.5801\n",
            "Epoch 74/150\n",
            "101/101 [==============================] - 5s 52ms/step - loss: 1.3523e-04 - accuracy: 1.0000 - val_loss: 2.6006 - val_accuracy: 0.6174\n",
            "Epoch 75/150\n",
            "101/101 [==============================] - 5s 49ms/step - loss: 8.1231e-05 - accuracy: 1.0000 - val_loss: 2.6352 - val_accuracy: 0.6298\n",
            "Epoch 76/150\n",
            "101/101 [==============================] - 5s 53ms/step - loss: 1.1587e-04 - accuracy: 1.0000 - val_loss: 3.2693 - val_accuracy: 0.6149\n",
            "Epoch 77/150\n",
            "101/101 [==============================] - 5s 49ms/step - loss: 6.8928e-05 - accuracy: 1.0000 - val_loss: 2.5323 - val_accuracy: 0.6261\n",
            "Epoch 78/150\n",
            "101/101 [==============================] - 5s 49ms/step - loss: 0.0013 - accuracy: 0.9997 - val_loss: 2.5204 - val_accuracy: 0.5988\n",
            "Epoch 79/150\n",
            "101/101 [==============================] - 5s 53ms/step - loss: 0.0012 - accuracy: 0.9997 - val_loss: 3.2059 - val_accuracy: 0.6087\n",
            "Epoch 80/150\n",
            "101/101 [==============================] - 5s 51ms/step - loss: 1.9175e-04 - accuracy: 1.0000 - val_loss: 2.6208 - val_accuracy: 0.6410\n",
            "Epoch 81/150\n",
            "101/101 [==============================] - 5s 48ms/step - loss: 9.2115e-05 - accuracy: 1.0000 - val_loss: 3.8644 - val_accuracy: 0.4783\n",
            "Epoch 82/150\n",
            "101/101 [==============================] - 5s 53ms/step - loss: 1.3378e-04 - accuracy: 1.0000 - val_loss: 3.9196 - val_accuracy: 0.4795\n",
            "Epoch 83/150\n",
            "101/101 [==============================] - 5s 51ms/step - loss: 0.0012 - accuracy: 0.9997 - val_loss: 2.6002 - val_accuracy: 0.6261\n",
            "Epoch 84/150\n",
            "101/101 [==============================] - 5s 51ms/step - loss: 0.0010 - accuracy: 0.9997 - val_loss: 4.9295 - val_accuracy: 0.4311\n",
            "Epoch 85/150\n",
            "101/101 [==============================] - 5s 50ms/step - loss: 2.0264e-04 - accuracy: 1.0000 - val_loss: 4.2534 - val_accuracy: 0.4795\n",
            "Epoch 86/150\n",
            "101/101 [==============================] - 5s 48ms/step - loss: 0.0024 - accuracy: 0.9997 - val_loss: 2.7184 - val_accuracy: 0.6261\n",
            "Epoch 87/150\n",
            "101/101 [==============================] - 5s 48ms/step - loss: 1.6382e-04 - accuracy: 1.0000 - val_loss: 3.2570 - val_accuracy: 0.5975\n",
            "Epoch 88/150\n",
            "101/101 [==============================] - 5s 51ms/step - loss: 1.2229e-04 - accuracy: 1.0000 - val_loss: 3.2615 - val_accuracy: 0.6062\n",
            "Epoch 89/150\n",
            "101/101 [==============================] - 5s 48ms/step - loss: 5.0784e-04 - accuracy: 1.0000 - val_loss: 4.3142 - val_accuracy: 0.5814\n",
            "Epoch 90/150\n",
            "101/101 [==============================] - 5s 51ms/step - loss: 1.0065e-04 - accuracy: 1.0000 - val_loss: 2.6436 - val_accuracy: 0.6199\n",
            "Epoch 91/150\n",
            "101/101 [==============================] - 5s 53ms/step - loss: 1.5005e-04 - accuracy: 1.0000 - val_loss: 3.2912 - val_accuracy: 0.5516\n",
            "Epoch 92/150\n",
            "101/101 [==============================] - 5s 48ms/step - loss: 2.4091e-04 - accuracy: 1.0000 - val_loss: 3.5000 - val_accuracy: 0.5217\n",
            "Epoch 93/150\n",
            "101/101 [==============================] - 5s 52ms/step - loss: 5.8833e-04 - accuracy: 1.0000 - val_loss: 3.8003 - val_accuracy: 0.4770\n",
            "Epoch 94/150\n",
            "101/101 [==============================] - 5s 50ms/step - loss: 2.5787e-04 - accuracy: 1.0000 - val_loss: 3.0768 - val_accuracy: 0.6000\n",
            "Epoch 95/150\n",
            "101/101 [==============================] - 5s 51ms/step - loss: 2.0232e-04 - accuracy: 1.0000 - val_loss: 2.8386 - val_accuracy: 0.6373\n",
            "Epoch 96/150\n",
            "101/101 [==============================] - 5s 52ms/step - loss: 2.8188e-04 - accuracy: 1.0000 - val_loss: 2.6365 - val_accuracy: 0.6410\n",
            "Epoch 97/150\n",
            "101/101 [==============================] - 5s 49ms/step - loss: 8.2368e-05 - accuracy: 1.0000 - val_loss: 3.3777 - val_accuracy: 0.6236\n",
            "Epoch 98/150\n",
            "101/101 [==============================] - 5s 48ms/step - loss: 8.2200e-05 - accuracy: 1.0000 - val_loss: 2.6962 - val_accuracy: 0.6460\n",
            "Epoch 99/150\n",
            "101/101 [==============================] - 5s 52ms/step - loss: 6.4879e-05 - accuracy: 1.0000 - val_loss: 4.2576 - val_accuracy: 0.4683\n",
            "Epoch 100/150\n",
            "101/101 [==============================] - 5s 52ms/step - loss: 1.4104e-04 - accuracy: 1.0000 - val_loss: 2.6903 - val_accuracy: 0.6261\n",
            "Epoch 101/150\n",
            "101/101 [==============================] - 5s 48ms/step - loss: 3.6322e-04 - accuracy: 1.0000 - val_loss: 4.3035 - val_accuracy: 0.4522\n",
            "Epoch 102/150\n",
            "101/101 [==============================] - 5s 50ms/step - loss: 8.6711e-05 - accuracy: 1.0000 - val_loss: 4.9492 - val_accuracy: 0.5627\n",
            "Epoch 103/150\n",
            "101/101 [==============================] - 5s 49ms/step - loss: 5.3267e-05 - accuracy: 1.0000 - val_loss: 2.8733 - val_accuracy: 0.5702\n",
            "Epoch 104/150\n",
            "101/101 [==============================] - 5s 51ms/step - loss: 9.8056e-04 - accuracy: 0.9997 - val_loss: 3.0391 - val_accuracy: 0.5528\n",
            "Epoch 105/150\n",
            "101/101 [==============================] - 5s 52ms/step - loss: 1.1862e-04 - accuracy: 1.0000 - val_loss: 3.4313 - val_accuracy: 0.6000\n",
            "Epoch 106/150\n",
            "101/101 [==============================] - 5s 48ms/step - loss: 7.4343e-05 - accuracy: 1.0000 - val_loss: 2.8706 - val_accuracy: 0.6460\n",
            "Epoch 107/150\n",
            "101/101 [==============================] - 5s 48ms/step - loss: 1.7724e-04 - accuracy: 1.0000 - val_loss: 3.3242 - val_accuracy: 0.6087\n",
            "Epoch 108/150\n",
            "101/101 [==============================] - 5s 50ms/step - loss: 6.4185e-05 - accuracy: 1.0000 - val_loss: 2.7991 - val_accuracy: 0.6137\n",
            "Epoch 109/150\n",
            "101/101 [==============================] - 5s 48ms/step - loss: 7.8120e-05 - accuracy: 1.0000 - val_loss: 3.4857 - val_accuracy: 0.6099\n",
            "Epoch 110/150\n",
            "101/101 [==============================] - 5s 48ms/step - loss: 9.7416e-05 - accuracy: 1.0000 - val_loss: 2.6243 - val_accuracy: 0.6236\n",
            "Epoch 111/150\n",
            "101/101 [==============================] - 5s 51ms/step - loss: 8.8592e-05 - accuracy: 1.0000 - val_loss: 3.1185 - val_accuracy: 0.6199\n",
            "Epoch 112/150\n",
            "101/101 [==============================] - 5s 48ms/step - loss: 3.0356e-04 - accuracy: 1.0000 - val_loss: 3.1894 - val_accuracy: 0.6050\n",
            "Epoch 113/150\n",
            "101/101 [==============================] - 5s 48ms/step - loss: 1.9174e-04 - accuracy: 1.0000 - val_loss: 3.3165 - val_accuracy: 0.6137\n",
            "Epoch 114/150\n",
            "101/101 [==============================] - 5s 50ms/step - loss: 8.3829e-05 - accuracy: 1.0000 - val_loss: 3.0097 - val_accuracy: 0.5776\n",
            "Epoch 115/150\n",
            "101/101 [==============================] - 5s 48ms/step - loss: 9.6456e-04 - accuracy: 0.9997 - val_loss: 2.8450 - val_accuracy: 0.6360\n",
            "Epoch 116/150\n",
            "101/101 [==============================] - 5s 48ms/step - loss: 1.7128e-04 - accuracy: 1.0000 - val_loss: 2.9516 - val_accuracy: 0.5627\n",
            "Epoch 117/150\n",
            "101/101 [==============================] - 5s 51ms/step - loss: 2.5016e-04 - accuracy: 1.0000 - val_loss: 3.2685 - val_accuracy: 0.6174\n",
            "Epoch 118/150\n",
            "101/101 [==============================] - 5s 48ms/step - loss: 3.0351e-04 - accuracy: 1.0000 - val_loss: 4.9311 - val_accuracy: 0.4373\n",
            "Epoch 119/150\n",
            "101/101 [==============================] - 5s 51ms/step - loss: 3.4673e-04 - accuracy: 1.0000 - val_loss: 5.5344 - val_accuracy: 0.4634\n",
            "Epoch 120/150\n",
            "101/101 [==============================] - 5s 53ms/step - loss: 1.6445e-04 - accuracy: 1.0000 - val_loss: 2.8625 - val_accuracy: 0.6075\n",
            "Epoch 121/150\n",
            "101/101 [==============================] - 5s 48ms/step - loss: 1.3653e-04 - accuracy: 1.0000 - val_loss: 3.0453 - val_accuracy: 0.5602\n",
            "Epoch 122/150\n",
            "101/101 [==============================] - 5s 48ms/step - loss: 1.9117e-04 - accuracy: 1.0000 - val_loss: 4.1210 - val_accuracy: 0.4596\n",
            "Epoch 123/150\n",
            "101/101 [==============================] - 5s 51ms/step - loss: 1.1561e-04 - accuracy: 1.0000 - val_loss: 3.4354 - val_accuracy: 0.6161\n",
            "Epoch 124/150\n",
            "101/101 [==============================] - 5s 51ms/step - loss: 5.5180e-05 - accuracy: 1.0000 - val_loss: 3.2576 - val_accuracy: 0.6298\n",
            "Epoch 125/150\n",
            "101/101 [==============================] - 5s 51ms/step - loss: 9.1180e-05 - accuracy: 1.0000 - val_loss: 6.6076 - val_accuracy: 0.3727\n",
            "Epoch 126/150\n",
            "101/101 [==============================] - 5s 53ms/step - loss: 6.9184e-05 - accuracy: 1.0000 - val_loss: 2.8742 - val_accuracy: 0.6410\n",
            "Epoch 127/150\n",
            "101/101 [==============================] - 5s 48ms/step - loss: 1.5146e-04 - accuracy: 1.0000 - val_loss: 2.7891 - val_accuracy: 0.6012\n",
            "Epoch 128/150\n",
            "101/101 [==============================] - 6s 55ms/step - loss: 5.0831e-05 - accuracy: 1.0000 - val_loss: 2.7356 - val_accuracy: 0.6161\n",
            "Epoch 129/150\n",
            "101/101 [==============================] - 5s 51ms/step - loss: 3.7983e-05 - accuracy: 1.0000 - val_loss: 3.1612 - val_accuracy: 0.6248\n",
            "Epoch 130/150\n",
            "101/101 [==============================] - 5s 51ms/step - loss: 5.2052e-05 - accuracy: 1.0000 - val_loss: 2.6515 - val_accuracy: 0.6199\n",
            "Epoch 131/150\n",
            "101/101 [==============================] - 5s 51ms/step - loss: 3.1166e-05 - accuracy: 1.0000 - val_loss: 3.3051 - val_accuracy: 0.6186\n",
            "Epoch 132/150\n",
            "101/101 [==============================] - 5s 50ms/step - loss: 3.9847e-05 - accuracy: 1.0000 - val_loss: 4.0040 - val_accuracy: 0.5913\n",
            "Epoch 133/150\n",
            "101/101 [==============================] - 5s 51ms/step - loss: 4.2935e-05 - accuracy: 1.0000 - val_loss: 3.2404 - val_accuracy: 0.5503\n",
            "Epoch 134/150\n",
            "101/101 [==============================] - 5s 51ms/step - loss: 3.8755e-05 - accuracy: 1.0000 - val_loss: 3.2660 - val_accuracy: 0.6211\n",
            "Epoch 135/150\n",
            "101/101 [==============================] - 5s 50ms/step - loss: 4.4143e-05 - accuracy: 1.0000 - val_loss: 2.7139 - val_accuracy: 0.6311\n",
            "Epoch 136/150\n",
            "101/101 [==============================] - 5s 48ms/step - loss: 4.3115e-05 - accuracy: 1.0000 - val_loss: 2.6962 - val_accuracy: 0.6559\n",
            "Epoch 137/150\n",
            "101/101 [==============================] - 5s 49ms/step - loss: 4.0989e-05 - accuracy: 1.0000 - val_loss: 3.4929 - val_accuracy: 0.6012\n",
            "Epoch 138/150\n",
            "101/101 [==============================] - 5s 53ms/step - loss: 3.7211e-05 - accuracy: 1.0000 - val_loss: 3.0329 - val_accuracy: 0.6224\n",
            "Epoch 139/150\n",
            "101/101 [==============================] - 5s 48ms/step - loss: 3.0107e-05 - accuracy: 1.0000 - val_loss: 2.6728 - val_accuracy: 0.6236\n",
            "Epoch 140/150\n",
            "101/101 [==============================] - 5s 49ms/step - loss: 3.4000e-05 - accuracy: 1.0000 - val_loss: 2.7424 - val_accuracy: 0.6435\n",
            "Epoch 141/150\n",
            "101/101 [==============================] - 5s 49ms/step - loss: 4.8493e-05 - accuracy: 1.0000 - val_loss: 3.1804 - val_accuracy: 0.5714\n",
            "Epoch 142/150\n",
            "101/101 [==============================] - 5s 48ms/step - loss: 4.4622e-05 - accuracy: 1.0000 - val_loss: 2.6330 - val_accuracy: 0.6298\n",
            "Epoch 143/150\n",
            "101/101 [==============================] - 5s 49ms/step - loss: 4.0348e-05 - accuracy: 1.0000 - val_loss: 3.1652 - val_accuracy: 0.6075\n",
            "Epoch 144/150\n",
            "101/101 [==============================] - 5s 50ms/step - loss: 7.4360e-05 - accuracy: 1.0000 - val_loss: 3.0376 - val_accuracy: 0.6261\n",
            "Epoch 145/150\n",
            "101/101 [==============================] - 5s 51ms/step - loss: 4.2401e-05 - accuracy: 1.0000 - val_loss: 2.7210 - val_accuracy: 0.6460\n",
            "Epoch 146/150\n",
            "101/101 [==============================] - 5s 50ms/step - loss: 2.6480e-05 - accuracy: 1.0000 - val_loss: 2.8663 - val_accuracy: 0.6323\n",
            "Epoch 147/150\n",
            "101/101 [==============================] - 5s 50ms/step - loss: 7.7616e-05 - accuracy: 1.0000 - val_loss: 3.5905 - val_accuracy: 0.6037\n",
            "Epoch 148/150\n",
            "101/101 [==============================] - 5s 51ms/step - loss: 6.6671e-05 - accuracy: 1.0000 - val_loss: 2.8134 - val_accuracy: 0.6348\n",
            "Epoch 149/150\n",
            "101/101 [==============================] - 5s 50ms/step - loss: 6.2323e-05 - accuracy: 1.0000 - val_loss: 7.0968 - val_accuracy: 0.3752\n",
            "Epoch 150/150\n",
            "101/101 [==============================] - 5s 50ms/step - loss: 3.8905e-05 - accuracy: 1.0000 - val_loss: 3.0710 - val_accuracy: 0.6273\n"
          ]
        }
      ]
    },
    {
      "cell_type": "code",
      "source": [
        "loss = history.history['loss']\n",
        "val_loss = history.history['val_loss']\n",
        "epochs = range(1, len(loss) + 1)\n",
        "plt.plot(epochs, loss, 'y', label='Training loss')\n",
        "plt.plot(epochs, val_loss, 'r', label='Validation loss')\n",
        "plt.title('Training and validation loss')\n",
        "plt.xlabel('Epochs')\n",
        "plt.ylabel('Loss')\n",
        "plt.legend()\n",
        "plt.show()"
      ],
      "metadata": {
        "id": "1-LMrXZbswO1",
        "colab": {
          "base_uri": "https://localhost:8080/",
          "height": 472
        },
        "outputId": "2b05fdbc-bd84-4ed6-ba06-c657093babe9"
      },
      "execution_count": 83,
      "outputs": [
        {
          "output_type": "display_data",
          "data": {
            "text/plain": [
              "<Figure size 640x480 with 1 Axes>"
            ],
            "image/png": "[encoded data removed]"
          },
          "metadata": {}
        }
      ]
    },
    {
      "cell_type": "code",
      "source": [
        "acc = history.history['accuracy']\n",
        "val_acc = history.history['val_accuracy']\n",
        "plt.plot(epochs, acc, 'y', label='Training acc')\n",
        "plt.plot(epochs, val_acc, 'r', label='Validation acc')\n",
        "plt.title('Training and validation accuracy')\n",
        "plt.xlabel('Epochs')\n",
        "plt.ylabel('Accuracy')\n",
        "plt.legend()\n",
        "plt.show()"
      ],
      "metadata": {
        "id": "oTF8ZJUHs4YK",
        "colab": {
          "base_uri": "https://localhost:8080/",
          "height": 472
        },
        "outputId": "602fee4f-fb7b-4d84-b126-87f3126c6f41"
      },
      "execution_count": 84,
      "outputs": [
        {
          "output_type": "display_data",
          "data": {
            "text/plain": [
              "<Figure size 640x480 with 1 Axes>"
            ],
            "image/png": "[encoded data removed]"
          },
          "metadata": {}
        }
      ]
    },
    {
      "cell_type": "code",
      "source": [
        "prediction_NN = cnn_model.predict(test_images)\n",
        "prediction_NN = np.argmax(prediction_NN, axis=-1)\n",
        "len(prediction_NN),len(test_labels)"
      ],
      "metadata": {
        "id": "r2b3qnpPtakW",
        "colab": {
          "base_uri": "https://localhost:8080/"
        },
        "outputId": "fe4a8d49-4f1a-41e5-c5f7-5510aac0c795"
      },
      "execution_count": 85,
      "outputs": [
        {
          "output_type": "stream",
          "name": "stdout",
          "text": [
            "67/67 [==============================] - 1s 13ms/step\n"
          ]
        },
        {
          "output_type": "execute_result",
          "data": {
            "text/plain": [
              "(2139, 2139)"
            ]
          },
          "metadata": {},
          "execution_count": 85
        }
      ]
    },
    {
      "cell_type": "code",
      "source": [],
      "metadata": {
        "id": "VWexlpZ5txrT"
      },
      "execution_count": null,
      "outputs": []
    }
  ]
}