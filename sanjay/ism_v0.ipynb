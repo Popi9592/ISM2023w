{
  "cells": [
    {
      "cell_type": "markdown",
      "metadata": {},
      "source": [
        "Import Libraries and Dependancies"
      ]
    },
    {
      "cell_type": "code",
      "execution_count": 4,
      "metadata": {
        "id": "alYsMWiMjQ3s"
      },
      "outputs": [],
      "source": [
        "import glob\n",
        "import os\n",
        "import pandas as pd\n",
        "import skimage.io\n",
        "import skimage.color\n",
        "from skimage.feature import hog\n",
        "from skimage import exposure\n",
        "from sklearn.model_selection import train_test_split\n",
        "from sklearn import svm\n",
        "from skimage.feature import graycomatrix,graycoprops\n",
        "from skimage import io, color, exposure\n",
        "import cv2\n",
        "from skimage.measure import shannon_entropy\n",
        "from scipy.stats import mode\n",
        "import numpy as np"
      ]
    },
    {
      "cell_type": "markdown",
      "metadata": {
        "notebookRunGroups": {
          "groupValue": ""
        }
      },
      "source": [
        "Load images corresponding to their path and label"
      ]
    },
    {
      "cell_type": "code",
      "execution_count": 5,
      "metadata": {
        "colab": {
          "base_uri": "https://localhost:8080/"
        },
        "id": "Je-bCw0KxhPQ",
        "outputId": "5b4a3f20-2705-47ab-a2da-f6de0a0c0160"
      },
      "outputs": [
        {
          "data": {
            "text/plain": [
              "(4021, 0)"
            ]
          },
          "execution_count": 5,
          "metadata": {},
          "output_type": "execute_result"
        }
      ],
      "source": [
        "csv_data = pd.read_csv('C:/Users/sanja/OneDrive/WiSe_23/ISM/ism_project_2023/ism_project_2023/train.csv',index_col=None)\n",
        "new=csv_data.sort_values(by=\"name\")\n",
        "image_folder = \"C:/Users/sanja/OneDrive/WiSe_23/ISM/ism_project_2023/ism_project_2023/train\"\n",
        "image_data={}\n",
        "count=0\n",
        "count_fail=0\n",
        "for index, row in new.iterrows():\n",
        "  img_name=(row.iloc[0])+\".jpg\"\n",
        "  img_path = os.path.join(image_folder, img_name)\n",
        "  img_label=row.iloc[1]\n",
        "  if os.path.exists(img_path):\n",
        "    image = skimage.io.imread(img_path)\n",
        "    image_data[img_path] = {'image': image, 'label': img_label}\n",
        "    count+=1\n",
        "  else:\n",
        "      count_fail+=1\n",
        "\n",
        "count,count_fail\n",
        "\n",
        "\n"
      ]
    },
    {
      "cell_type": "markdown",
      "metadata": {},
      "source": [
        "Load Test images (for future testing)"
      ]
    },
    {
      "cell_type": "code",
      "execution_count": 6,
      "metadata": {},
      "outputs": [
        {
          "data": {
            "text/plain": [
              "(2139, 0)"
            ]
          },
          "execution_count": 6,
          "metadata": {},
          "output_type": "execute_result"
        }
      ],
      "source": [
        "test_csv_data = pd.read_csv('C:/Users/sanja/OneDrive/WiSe_23/ISM/ism_project_2023/ism_project_2023/test.csv',index_col=None)\n",
        "test_new=test_csv_data.sort_values(by=\"name\")\n",
        "test_image_folder = \"C:/Users/sanja/OneDrive/WiSe_23/ISM/ism_project_2023/ism_project_2023/test\"\n",
        "test_image_data={}\n",
        "count=0\n",
        "count_fail=0\n",
        "for index, row in test_new.iterrows():\n",
        "  test_img_name=(row.iloc[0])+\".jpg\"\n",
        "  test_img_path = os.path.join(test_image_folder, test_img_name)\n",
        "  test_img_label=row.iloc[1]\n",
        "  if os.path.exists(img_path):\n",
        "    test_image = skimage.io.imread(test_img_path)\n",
        "    test_image_data[test_img_path] = {'image': test_image, 'label': test_img_label}\n",
        "    count+=1\n",
        "  else:\n",
        "      count_fail+=1\n",
        "\n",
        "count,count_fail\n",
        "\n"
      ]
    },
    {
      "cell_type": "markdown",
      "metadata": {},
      "source": [
        "Helper to return metrics"
      ]
    },
    {
      "cell_type": "code",
      "execution_count": 7,
      "metadata": {},
      "outputs": [],
      "source": [
        "from sklearn.metrics import accuracy_score, f1_score, recall_score, precision_score\n",
        "def get_metrics(labels, predictions):\n",
        "    accuracy = accuracy_score(labels, predictions)\n",
        "    f1 = f1_score(labels, predictions, average='macro')\n",
        "    recall = recall_score(labels, predictions, average='macro')\n",
        "    precision = precision_score(labels, predictions, average='macro')\n",
        "    return accuracy, f1, recall, precision"
      ]
    },
    {
      "cell_type": "markdown",
      "metadata": {},
      "source": [
        "Histogram of Gradients"
      ]
    },
    {
      "cell_type": "code",
      "execution_count": 8,
      "metadata": {
        "colab": {
          "base_uri": "https://localhost:8080/"
        },
        "id": "2TIjnGl7nKxA",
        "outputId": "dc429eaa-625c-40c0-b7b4-f247911c5d77"
      },
      "outputs": [],
      "source": [
        "for img_path,data in image_data.items():\n",
        "  image=data[\"image\"]\n",
        "  gray_segmented_image = cv2.cvtColor(image, cv2.COLOR_BGR2GRAY)\n",
        "  fd, hog_image = hog(gray_segmented_image, pixels_per_cell=(16, 16), visualize=True)\n",
        "  hog_image_rescaled = exposure.rescale_intensity(hog_image, in_range=(0, 10))\n",
        "  fd = fd.reshape(1, -1)\n",
        "  data[\"hog_features\"]=fd"
      ]
    },
    {
      "cell_type": "markdown",
      "metadata": {},
      "source": [
        "Gray Level Co-occurence Matrix (GLCM) with Mean Shift Filtering"
      ]
    },
    {
      "cell_type": "code",
      "execution_count": 9,
      "metadata": {},
      "outputs": [],
      "source": [
        "for img_path,data in image_data.items():\n",
        "  image=data[\"image\"]\n",
        "  #filtered_image = cv2.pyrMeanShiftFiltering(image, sp=15, sr=30)\n",
        "  gray_segmented_image = cv2.cvtColor(image, cv2.COLOR_BGR2GRAY)\n",
        "  GLCM = graycomatrix(gray_segmented_image, [1], [0])\n",
        "  GLCM_Energy = graycoprops(GLCM, 'energy')[0,0]\n",
        "  data['Energy'] = GLCM_Energy\n",
        "  GLCM_corr = graycoprops(GLCM, 'correlation')[0,0]\n",
        "  data['Corr'] = GLCM_corr\n",
        "  GLCM_diss = graycoprops(GLCM, 'dissimilarity')[0,0]\n",
        "  data['Diss_sim'] = GLCM_diss\n",
        "  GLCM_hom = graycoprops(GLCM, 'homogeneity')[0,0]\n",
        "  data['Homogen'] = GLCM_hom\n",
        "  GLCM_contr = graycoprops(GLCM, 'contrast')[0,0]\n",
        "  data['Contrast'] = GLCM_contr\n"
      ]
    },
    {
      "cell_type": "markdown",
      "metadata": {},
      "source": [
        "HU Moments\n"
      ]
    },
    {
      "cell_type": "code",
      "execution_count": 10,
      "metadata": {},
      "outputs": [],
      "source": [
        "for img_path,data in image_data.items():\n",
        "    image=data[\"image\"]\n",
        "    gray_segmented_image = cv2.cvtColor(image, cv2.COLOR_BGR2GRAY)\n",
        "    _, image = cv2.threshold(gray_segmented_image*255, 128, 255, cv2.THRESH_BINARY)\n",
        "    moments = cv2.moments(image)\n",
        "    hu_moments= cv2.HuMoments(moments)\n",
        "    data[\"Hu_1\"]=hu_moments[0][0]\n",
        "    data[\"Hu_2\"]=hu_moments[1][0]\n",
        "    data[\"Hu_3\"]=hu_moments[2][0]\n",
        "    data[\"Hu_4\"]=hu_moments[3][0]\n",
        "    data[\"Hu_5\"]=hu_moments[4][0]\n",
        "    data[\"Hu_6\"]=hu_moments[5][0]\n",
        "    data[\"Hu_7\"]=hu_moments[6][0]\n",
        "    "
      ]
    },
    {
      "cell_type": "markdown",
      "metadata": {},
      "source": [
        "Statistical Features"
      ]
    },
    {
      "cell_type": "code",
      "execution_count": 11,
      "metadata": {},
      "outputs": [],
      "source": [
        "for img_path,data in image_data.items():\n",
        "  image=data[\"image\"]\n",
        "  data['mean_value']= np.mean(image)\n",
        "  data['std_deviation'] = np.std(image)\n",
        "  data['entropy_value'] = shannon_entropy(image)\n",
        "  data[\"median\"] = np.median(image)\n",
        "  data[\"percentile_25\"] = np.percentile(image, 25)\n",
        "  data[\"percentile_75\"] = np.percentile(image, 75)\n"
      ]
    },
    {
      "cell_type": "markdown",
      "metadata": {},
      "source": [
        "Print for verification"
      ]
    },
    {
      "cell_type": "code",
      "execution_count": 14,
      "metadata": {},
      "outputs": [
        {
          "name": "stdout",
          "output_type": "stream",
          "text": [
            "Feature Vector 1: [0.017072267697617077, 0.9843788650268777, 5.560535408512719, 0.19501167354734786, 62.28937591731898, 165.27353541056314, 45.646744694582765, 7.449294529043555, 172.0, 137.0, 199.0, 0.0017867533423917348, 1.702525212414615e-07, 1.5468648502994796e-09, 2.542699264984661e-10, 1.3386206180641189e-19, -9.504639648095484e-14, -8.666268872749686e-20]\n",
            "Feature Vector 2: [0.023784006350454242, 0.9714473443975021, 6.428261833414873, 0.19915677243814103, 88.86119817147748, 128.44889322916666, 39.44361693644027, 7.141694188393848, 135.0, 104.0, 158.0, 0.0013039704579546876, 2.841427134247802e-09, 2.064331352449666e-11, 5.4819196410804015e-12, -3.853395826079776e-24, -4.2504739497359103e-17, -5.818867980516278e-23]\n",
            "Feature Vector 3: [0.016002777428583727, 0.9719253394423467, 7.103355094178082, 0.1733854251988952, 106.45796767979452, 120.68731435139973, 44.87582842591375, 7.396731519466981, 127.0, 88.0, 158.0, 0.00111920244553897, 6.074579432386349e-10, 1.5770347202684672e-12, 1.0392563779714536e-12, -1.188288947776895e-24, 2.1450317205767153e-17, 5.984283129713752e-25]\n",
            "Feature Vector 4: [0.023116975525528726, 0.9797295804128865, 6.935248746330723, 0.18561157033366854, 101.89361010885517, 157.0397211710612, 51.06375912642743, 7.428483288667267, 161.0, 122.0, 198.0, 0.0020725674821408593, 1.1058414316483314e-07, 9.089656234502276e-10, 2.182532075673189e-11, -1.3389874726301527e-21, -2.7871763090768027e-15, 2.767139200596927e-21]\n",
            "Feature Vector 5: [0.019656223083654945, 0.960455580559744, 6.3036516939823874, 0.16999372278496142, 75.02977082314091, 129.0403289794922, 40.07847515428392, 7.3293130555362405, 131.0, 100.0, 158.0, 0.0010244986852047534, 1.0204087095487844e-09, 5.203706696235361e-12, 4.224812464972989e-12, 1.960174687152508e-23, 3.8161070664158043e-17, -2.8595538138585248e-24]\n"
          ]
        },
        {
          "ename": "NameError",
          "evalue": "name 'labels' is not defined",
          "output_type": "error",
          "traceback": [
            "\u001b[1;31m---------------------------------------------------------------------------\u001b[0m",
            "\u001b[1;31mNameError\u001b[0m                                 Traceback (most recent call last)",
            "\u001b[1;32mc:\\Users\\sanja\\OneDrive\\WiSe_23\\ISM\\ism_project_2023\\src\\hog_svm (1).ipynb Cell 18\u001b[0m line \u001b[0;36m6\n\u001b[0;32m      <a href='vscode-notebook-cell:/c%3A/Users/sanja/OneDrive/WiSe_23/ISM/ism_project_2023/src/hog_svm%20%281%29.ipynb#X14sZmlsZQ%3D%3D?line=2'>3</a>\u001b[0m     \u001b[39mprint\u001b[39m(\u001b[39mf\u001b[39m\u001b[39m\"\u001b[39m\u001b[39mFeature Vector \u001b[39m\u001b[39m{\u001b[39;00mi\u001b[39m+\u001b[39m\u001b[39m1\u001b[39m\u001b[39m}\u001b[39;00m\u001b[39m: \u001b[39m\u001b[39m{\u001b[39;00mfeature_vector\u001b[39m}\u001b[39;00m\u001b[39m\"\u001b[39m)\n\u001b[0;32m      <a href='vscode-notebook-cell:/c%3A/Users/sanja/OneDrive/WiSe_23/ISM/ism_project_2023/src/hog_svm%20%281%29.ipynb#X14sZmlsZQ%3D%3D?line=4'>5</a>\u001b[0m \u001b[39m# Check the first few elements in labels\u001b[39;00m\n\u001b[1;32m----> <a href='vscode-notebook-cell:/c%3A/Users/sanja/OneDrive/WiSe_23/ISM/ism_project_2023/src/hog_svm%20%281%29.ipynb#X14sZmlsZQ%3D%3D?line=5'>6</a>\u001b[0m \u001b[39mprint\u001b[39m(\u001b[39m\"\u001b[39m\u001b[39mLabels:\u001b[39m\u001b[39m\"\u001b[39m, labels[:\u001b[39m5\u001b[39m])\n",
            "\u001b[1;31mNameError\u001b[0m: name 'labels' is not defined"
          ]
        }
      ],
      "source": [
        "# Check the first few elements in feature_vectors\n",
        "for i, feature_vector in enumerate(feature_vectors[:5]):\n",
        "    print(f\"Feature Vector {i+1}: {feature_vector}\")\n",
        "\n",
        "# Check the first few elements in labels\n",
        "print(\"Labels:\", labels[:5])\n"
      ]
    },
    {
      "cell_type": "markdown",
      "metadata": {},
      "source": [
        "Scale and Pre Process Training and Test data for Model "
      ]
    },
    {
      "cell_type": "code",
      "execution_count": 13,
      "metadata": {},
      "outputs": [],
      "source": [
        "from sklearn.model_selection import train_test_split\n",
        "from sklearn.preprocessing import StandardScaler\n",
        "\n",
        "feature_vectors = []\n",
        "\n",
        "for img_path, data in image_data.items():\n",
        "    glcm_features = [data['Energy'], data['Corr'], data['Diss_sim'], data['Homogen'], data['Contrast']]\n",
        "    statistical_features = [data['mean_value'], data['std_deviation'], data['entropy_value'], data['median'], data['percentile_25'], data['percentile_75']]\n",
        "    hu_features = [data[\"Hu_1\"],data[\"Hu_2\"],data[\"Hu_3\"],data[\"Hu_4\"],data[\"Hu_5\"],data[\"Hu_6\"],data[\"Hu_7\"]]\n",
        "    combined_features = glcm_features + statistical_features+hu_features\n",
        "    feature_vectors.append(combined_features)\n"
      ]
    },
    {
      "cell_type": "code",
      "execution_count": 15,
      "metadata": {},
      "outputs": [],
      "source": [
        "\n",
        "labels = [data['label'] for img_path, data in image_data.items()]\n",
        "\n",
        "X_train, X_test, y_train, y_test = train_test_split(feature_vectors, labels, test_size=0.2, random_state=42)\n",
        "\n",
        "scaler = StandardScaler()\n",
        "X_train_scaled = scaler.fit_transform(X_train)\n",
        "X_test_scaled = scaler.transform(X_test)"
      ]
    },
    {
      "cell_type": "markdown",
      "metadata": {},
      "source": [
        "Support Vector Machine"
      ]
    },
    {
      "cell_type": "code",
      "execution_count": 16,
      "metadata": {},
      "outputs": [
        {
          "name": "stdout",
          "output_type": "stream",
          "text": [
            "--- SVM --- \n",
            "Accuracy:  67 \n",
            "F1:  60 \n",
            "Recall:  60 \n",
            "Precision:  63\n"
          ]
        }
      ],
      "source": [
        "from sklearn.svm import SVC\n",
        "\n",
        "svm_classifier = SVC(kernel=\"rbf\", random_state=42, C=10, gamma=0.1)\n",
        "\n",
        "svm_classifier.fit(X_train_scaled, y_train)\n",
        "\n",
        "accuracy = svm_classifier.score(X_test_scaled, y_test)\n",
        "test_predictions = svm_classifier.predict(X_test_scaled)\n",
        "accuracy, f1, recall, precision = get_metrics(y_test, test_predictions)\n",
        "print('--- SVM --- \\nAccuracy: ', round(accuracy*100), '\\nF1: ', round(f1*100), '\\nRecall: ', round(recall*100), '\\nPrecision: ', round(precision*100))\n",
        "\n"
      ]
    },
    {
      "cell_type": "code",
      "execution_count": 17,
      "metadata": {},
      "outputs": [
        {
          "data": {
            "text/plain": [
              "array([0.61956522, 0.63608087, 0.64230171, 0.62674961, 0.6407465 ])"
            ]
          },
          "execution_count": 17,
          "metadata": {},
          "output_type": "execute_result"
        }
      ],
      "source": [
        "from sklearn.model_selection import cross_val_score\n",
        "from sklearn.svm import SVC\n",
        "cross_val_score(svm.SVC(kernel=\"rbf\",C=10,gamma=0.1), X_train_scaled, y_train, cv=5, scoring=\"accuracy\")"
      ]
    },
    {
      "cell_type": "code",
      "execution_count": 18,
      "metadata": {},
      "outputs": [],
      "source": [
        "from sklearn.model_selection import GridSearchCV\n",
        "clf=GridSearchCV(svm.SVC(),{\"C\":[1,5,10,15,20],\"kernel\":[\"rbf\",\"linear\",\"sigmoid\"]},cv=5,return_train_score=False)\n",
        "clf.fit(X_train_scaled,y_train)\n",
        "clf.cv_results_\n",
        "cldf=pd.DataFrame(clf.cv_results_)"
      ]
    },
    {
      "cell_type": "code",
      "execution_count": 19,
      "metadata": {},
      "outputs": [
        {
          "data": {
            "text/html": [
              "<div>\n",
              "<style scoped>\n",
              "    .dataframe tbody tr th:only-of-type {\n",
              "        vertical-align: middle;\n",
              "    }\n",
              "\n",
              "    .dataframe tbody tr th {\n",
              "        vertical-align: top;\n",
              "    }\n",
              "\n",
              "    .dataframe thead th {\n",
              "        text-align: right;\n",
              "    }\n",
              "</style>\n",
              "<table border=\"1\" class=\"dataframe\">\n",
              "  <thead>\n",
              "    <tr style=\"text-align: right;\">\n",
              "      <th></th>\n",
              "      <th>mean_fit_time</th>\n",
              "      <th>std_fit_time</th>\n",
              "      <th>mean_score_time</th>\n",
              "      <th>std_score_time</th>\n",
              "      <th>param_C</th>\n",
              "      <th>param_kernel</th>\n",
              "      <th>params</th>\n",
              "      <th>split0_test_score</th>\n",
              "      <th>split1_test_score</th>\n",
              "      <th>split2_test_score</th>\n",
              "      <th>split3_test_score</th>\n",
              "      <th>split4_test_score</th>\n",
              "      <th>mean_test_score</th>\n",
              "      <th>std_test_score</th>\n",
              "      <th>rank_test_score</th>\n",
              "    </tr>\n",
              "  </thead>\n",
              "  <tbody>\n",
              "    <tr>\n",
              "      <th>0</th>\n",
              "      <td>0.161413</td>\n",
              "      <td>0.008195</td>\n",
              "      <td>0.078729</td>\n",
              "      <td>0.001859</td>\n",
              "      <td>1</td>\n",
              "      <td>rbf</td>\n",
              "      <td>{'C': 1, 'kernel': 'rbf'}</td>\n",
              "      <td>0.548137</td>\n",
              "      <td>0.576983</td>\n",
              "      <td>0.573872</td>\n",
              "      <td>0.578538</td>\n",
              "      <td>0.587869</td>\n",
              "      <td>0.573080</td>\n",
              "      <td>0.013316</td>\n",
              "      <td>5</td>\n",
              "    </tr>\n",
              "    <tr>\n",
              "      <th>1</th>\n",
              "      <td>0.222035</td>\n",
              "      <td>0.024510</td>\n",
              "      <td>0.017495</td>\n",
              "      <td>0.001606</td>\n",
              "      <td>1</td>\n",
              "      <td>linear</td>\n",
              "      <td>{'C': 1, 'kernel': 'linear'}</td>\n",
              "      <td>0.503106</td>\n",
              "      <td>0.552100</td>\n",
              "      <td>0.547434</td>\n",
              "      <td>0.544323</td>\n",
              "      <td>0.524106</td>\n",
              "      <td>0.534214</td>\n",
              "      <td>0.018258</td>\n",
              "      <td>10</td>\n",
              "    </tr>\n",
              "    <tr>\n",
              "      <th>2</th>\n",
              "      <td>0.186374</td>\n",
              "      <td>0.006544</td>\n",
              "      <td>0.036667</td>\n",
              "      <td>0.003033</td>\n",
              "      <td>1</td>\n",
              "      <td>sigmoid</td>\n",
              "      <td>{'C': 1, 'kernel': 'sigmoid'}</td>\n",
              "      <td>0.352484</td>\n",
              "      <td>0.413686</td>\n",
              "      <td>0.410575</td>\n",
              "      <td>0.376361</td>\n",
              "      <td>0.388802</td>\n",
              "      <td>0.388382</td>\n",
              "      <td>0.022655</td>\n",
              "      <td>11</td>\n",
              "    </tr>\n",
              "    <tr>\n",
              "      <th>3</th>\n",
              "      <td>0.152372</td>\n",
              "      <td>0.005523</td>\n",
              "      <td>0.071597</td>\n",
              "      <td>0.000861</td>\n",
              "      <td>5</td>\n",
              "      <td>rbf</td>\n",
              "      <td>{'C': 5, 'kernel': 'rbf'}</td>\n",
              "      <td>0.590062</td>\n",
              "      <td>0.606532</td>\n",
              "      <td>0.617418</td>\n",
              "      <td>0.622084</td>\n",
              "      <td>0.618974</td>\n",
              "      <td>0.611014</td>\n",
              "      <td>0.011713</td>\n",
              "      <td>4</td>\n",
              "    </tr>\n",
              "    <tr>\n",
              "      <th>4</th>\n",
              "      <td>0.407422</td>\n",
              "      <td>0.013119</td>\n",
              "      <td>0.015887</td>\n",
              "      <td>0.000553</td>\n",
              "      <td>5</td>\n",
              "      <td>linear</td>\n",
              "      <td>{'C': 5, 'kernel': 'linear'}</td>\n",
              "      <td>0.534161</td>\n",
              "      <td>0.566096</td>\n",
              "      <td>0.569207</td>\n",
              "      <td>0.558320</td>\n",
              "      <td>0.558320</td>\n",
              "      <td>0.557221</td>\n",
              "      <td>0.012301</td>\n",
              "      <td>9</td>\n",
              "    </tr>\n",
              "    <tr>\n",
              "      <th>5</th>\n",
              "      <td>0.141487</td>\n",
              "      <td>0.006325</td>\n",
              "      <td>0.031847</td>\n",
              "      <td>0.001672</td>\n",
              "      <td>5</td>\n",
              "      <td>sigmoid</td>\n",
              "      <td>{'C': 5, 'kernel': 'sigmoid'}</td>\n",
              "      <td>0.354037</td>\n",
              "      <td>0.356143</td>\n",
              "      <td>0.377916</td>\n",
              "      <td>0.363919</td>\n",
              "      <td>0.379471</td>\n",
              "      <td>0.366297</td>\n",
              "      <td>0.010655</td>\n",
              "      <td>12</td>\n",
              "    </tr>\n",
              "    <tr>\n",
              "      <th>6</th>\n",
              "      <td>0.156592</td>\n",
              "      <td>0.010296</td>\n",
              "      <td>0.071049</td>\n",
              "      <td>0.001995</td>\n",
              "      <td>10</td>\n",
              "      <td>rbf</td>\n",
              "      <td>{'C': 10, 'kernel': 'rbf'}</td>\n",
              "      <td>0.613354</td>\n",
              "      <td>0.611198</td>\n",
              "      <td>0.629860</td>\n",
              "      <td>0.629860</td>\n",
              "      <td>0.632970</td>\n",
              "      <td>0.623448</td>\n",
              "      <td>0.009218</td>\n",
              "      <td>3</td>\n",
              "    </tr>\n",
              "    <tr>\n",
              "      <th>7</th>\n",
              "      <td>0.628125</td>\n",
              "      <td>0.019183</td>\n",
              "      <td>0.015416</td>\n",
              "      <td>0.000650</td>\n",
              "      <td>10</td>\n",
              "      <td>linear</td>\n",
              "      <td>{'C': 10, 'kernel': 'linear'}</td>\n",
              "      <td>0.546584</td>\n",
              "      <td>0.569207</td>\n",
              "      <td>0.573872</td>\n",
              "      <td>0.564541</td>\n",
              "      <td>0.555210</td>\n",
              "      <td>0.561883</td>\n",
              "      <td>0.009829</td>\n",
              "      <td>8</td>\n",
              "    </tr>\n",
              "    <tr>\n",
              "      <th>8</th>\n",
              "      <td>0.138213</td>\n",
              "      <td>0.004117</td>\n",
              "      <td>0.034112</td>\n",
              "      <td>0.004224</td>\n",
              "      <td>10</td>\n",
              "      <td>sigmoid</td>\n",
              "      <td>{'C': 10, 'kernel': 'sigmoid'}</td>\n",
              "      <td>0.350932</td>\n",
              "      <td>0.362364</td>\n",
              "      <td>0.353033</td>\n",
              "      <td>0.360809</td>\n",
              "      <td>0.374806</td>\n",
              "      <td>0.360389</td>\n",
              "      <td>0.008432</td>\n",
              "      <td>15</td>\n",
              "    </tr>\n",
              "    <tr>\n",
              "      <th>9</th>\n",
              "      <td>0.158082</td>\n",
              "      <td>0.003030</td>\n",
              "      <td>0.068322</td>\n",
              "      <td>0.003228</td>\n",
              "      <td>15</td>\n",
              "      <td>rbf</td>\n",
              "      <td>{'C': 15, 'kernel': 'rbf'}</td>\n",
              "      <td>0.624224</td>\n",
              "      <td>0.623639</td>\n",
              "      <td>0.646967</td>\n",
              "      <td>0.629860</td>\n",
              "      <td>0.639191</td>\n",
              "      <td>0.632776</td>\n",
              "      <td>0.009030</td>\n",
              "      <td>2</td>\n",
              "    </tr>\n",
              "    <tr>\n",
              "      <th>10</th>\n",
              "      <td>0.825496</td>\n",
              "      <td>0.030455</td>\n",
              "      <td>0.016235</td>\n",
              "      <td>0.001403</td>\n",
              "      <td>15</td>\n",
              "      <td>linear</td>\n",
              "      <td>{'C': 15, 'kernel': 'linear'}</td>\n",
              "      <td>0.548137</td>\n",
              "      <td>0.576983</td>\n",
              "      <td>0.567652</td>\n",
              "      <td>0.562986</td>\n",
              "      <td>0.558320</td>\n",
              "      <td>0.562816</td>\n",
              "      <td>0.009590</td>\n",
              "      <td>7</td>\n",
              "    </tr>\n",
              "    <tr>\n",
              "      <th>11</th>\n",
              "      <td>0.139449</td>\n",
              "      <td>0.003339</td>\n",
              "      <td>0.030433</td>\n",
              "      <td>0.002798</td>\n",
              "      <td>15</td>\n",
              "      <td>sigmoid</td>\n",
              "      <td>{'C': 15, 'kernel': 'sigmoid'}</td>\n",
              "      <td>0.336957</td>\n",
              "      <td>0.357698</td>\n",
              "      <td>0.376361</td>\n",
              "      <td>0.360809</td>\n",
              "      <td>0.374806</td>\n",
              "      <td>0.361326</td>\n",
              "      <td>0.014248</td>\n",
              "      <td>13</td>\n",
              "    </tr>\n",
              "    <tr>\n",
              "      <th>12</th>\n",
              "      <td>0.170480</td>\n",
              "      <td>0.003991</td>\n",
              "      <td>0.069258</td>\n",
              "      <td>0.001477</td>\n",
              "      <td>20</td>\n",
              "      <td>rbf</td>\n",
              "      <td>{'C': 20, 'kernel': 'rbf'}</td>\n",
              "      <td>0.625776</td>\n",
              "      <td>0.632970</td>\n",
              "      <td>0.657854</td>\n",
              "      <td>0.640747</td>\n",
              "      <td>0.639191</td>\n",
              "      <td>0.639308</td>\n",
              "      <td>0.010671</td>\n",
              "      <td>1</td>\n",
              "    </tr>\n",
              "    <tr>\n",
              "      <th>13</th>\n",
              "      <td>1.035169</td>\n",
              "      <td>0.032207</td>\n",
              "      <td>0.017173</td>\n",
              "      <td>0.000534</td>\n",
              "      <td>20</td>\n",
              "      <td>linear</td>\n",
              "      <td>{'C': 20, 'kernel': 'linear'}</td>\n",
              "      <td>0.554348</td>\n",
              "      <td>0.573872</td>\n",
              "      <td>0.569207</td>\n",
              "      <td>0.569207</td>\n",
              "      <td>0.555210</td>\n",
              "      <td>0.564369</td>\n",
              "      <td>0.008018</td>\n",
              "      <td>6</td>\n",
              "    </tr>\n",
              "    <tr>\n",
              "      <th>14</th>\n",
              "      <td>0.141967</td>\n",
              "      <td>0.005981</td>\n",
              "      <td>0.032525</td>\n",
              "      <td>0.001789</td>\n",
              "      <td>20</td>\n",
              "      <td>sigmoid</td>\n",
              "      <td>{'C': 20, 'kernel': 'sigmoid'}</td>\n",
              "      <td>0.336957</td>\n",
              "      <td>0.356143</td>\n",
              "      <td>0.370140</td>\n",
              "      <td>0.363919</td>\n",
              "      <td>0.377916</td>\n",
              "      <td>0.361015</td>\n",
              "      <td>0.013999</td>\n",
              "      <td>14</td>\n",
              "    </tr>\n",
              "  </tbody>\n",
              "</table>\n",
              "</div>"
            ],
            "text/plain": [
              "    mean_fit_time  std_fit_time  mean_score_time  std_score_time param_C  \\\n",
              "0        0.161413      0.008195         0.078729        0.001859       1   \n",
              "1        0.222035      0.024510         0.017495        0.001606       1   \n",
              "2        0.186374      0.006544         0.036667        0.003033       1   \n",
              "3        0.152372      0.005523         0.071597        0.000861       5   \n",
              "4        0.407422      0.013119         0.015887        0.000553       5   \n",
              "5        0.141487      0.006325         0.031847        0.001672       5   \n",
              "6        0.156592      0.010296         0.071049        0.001995      10   \n",
              "7        0.628125      0.019183         0.015416        0.000650      10   \n",
              "8        0.138213      0.004117         0.034112        0.004224      10   \n",
              "9        0.158082      0.003030         0.068322        0.003228      15   \n",
              "10       0.825496      0.030455         0.016235        0.001403      15   \n",
              "11       0.139449      0.003339         0.030433        0.002798      15   \n",
              "12       0.170480      0.003991         0.069258        0.001477      20   \n",
              "13       1.035169      0.032207         0.017173        0.000534      20   \n",
              "14       0.141967      0.005981         0.032525        0.001789      20   \n",
              "\n",
              "   param_kernel                          params  split0_test_score  \\\n",
              "0           rbf       {'C': 1, 'kernel': 'rbf'}           0.548137   \n",
              "1        linear    {'C': 1, 'kernel': 'linear'}           0.503106   \n",
              "2       sigmoid   {'C': 1, 'kernel': 'sigmoid'}           0.352484   \n",
              "3           rbf       {'C': 5, 'kernel': 'rbf'}           0.590062   \n",
              "4        linear    {'C': 5, 'kernel': 'linear'}           0.534161   \n",
              "5       sigmoid   {'C': 5, 'kernel': 'sigmoid'}           0.354037   \n",
              "6           rbf      {'C': 10, 'kernel': 'rbf'}           0.613354   \n",
              "7        linear   {'C': 10, 'kernel': 'linear'}           0.546584   \n",
              "8       sigmoid  {'C': 10, 'kernel': 'sigmoid'}           0.350932   \n",
              "9           rbf      {'C': 15, 'kernel': 'rbf'}           0.624224   \n",
              "10       linear   {'C': 15, 'kernel': 'linear'}           0.548137   \n",
              "11      sigmoid  {'C': 15, 'kernel': 'sigmoid'}           0.336957   \n",
              "12          rbf      {'C': 20, 'kernel': 'rbf'}           0.625776   \n",
              "13       linear   {'C': 20, 'kernel': 'linear'}           0.554348   \n",
              "14      sigmoid  {'C': 20, 'kernel': 'sigmoid'}           0.336957   \n",
              "\n",
              "    split1_test_score  split2_test_score  split3_test_score  \\\n",
              "0            0.576983           0.573872           0.578538   \n",
              "1            0.552100           0.547434           0.544323   \n",
              "2            0.413686           0.410575           0.376361   \n",
              "3            0.606532           0.617418           0.622084   \n",
              "4            0.566096           0.569207           0.558320   \n",
              "5            0.356143           0.377916           0.363919   \n",
              "6            0.611198           0.629860           0.629860   \n",
              "7            0.569207           0.573872           0.564541   \n",
              "8            0.362364           0.353033           0.360809   \n",
              "9            0.623639           0.646967           0.629860   \n",
              "10           0.576983           0.567652           0.562986   \n",
              "11           0.357698           0.376361           0.360809   \n",
              "12           0.632970           0.657854           0.640747   \n",
              "13           0.573872           0.569207           0.569207   \n",
              "14           0.356143           0.370140           0.363919   \n",
              "\n",
              "    split4_test_score  mean_test_score  std_test_score  rank_test_score  \n",
              "0            0.587869         0.573080        0.013316                5  \n",
              "1            0.524106         0.534214        0.018258               10  \n",
              "2            0.388802         0.388382        0.022655               11  \n",
              "3            0.618974         0.611014        0.011713                4  \n",
              "4            0.558320         0.557221        0.012301                9  \n",
              "5            0.379471         0.366297        0.010655               12  \n",
              "6            0.632970         0.623448        0.009218                3  \n",
              "7            0.555210         0.561883        0.009829                8  \n",
              "8            0.374806         0.360389        0.008432               15  \n",
              "9            0.639191         0.632776        0.009030                2  \n",
              "10           0.558320         0.562816        0.009590                7  \n",
              "11           0.374806         0.361326        0.014248               13  \n",
              "12           0.639191         0.639308        0.010671                1  \n",
              "13           0.555210         0.564369        0.008018                6  \n",
              "14           0.377916         0.361015        0.013999               14  "
            ]
          },
          "execution_count": 19,
          "metadata": {},
          "output_type": "execute_result"
        }
      ],
      "source": [
        "cldf"
      ]
    },
    {
      "cell_type": "code",
      "execution_count": 20,
      "metadata": {},
      "outputs": [
        {
          "data": {
            "text/plain": [
              "(0.6393076900785333, {'C': 20, 'kernel': 'rbf'}, SVC(C=20))"
            ]
          },
          "execution_count": 20,
          "metadata": {},
          "output_type": "execute_result"
        }
      ],
      "source": [
        "clf.best_score_,clf.best_params_,clf.best_estimator_"
      ]
    },
    {
      "cell_type": "code",
      "execution_count": 21,
      "metadata": {},
      "outputs": [
        {
          "data": {
            "text/html": [
              "<style>#sk-container-id-1 {color: black;}#sk-container-id-1 pre{padding: 0;}#sk-container-id-1 div.sk-toggleable {background-color: white;}#sk-container-id-1 label.sk-toggleable__label {cursor: pointer;display: block;width: 100%;margin-bottom: 0;padding: 0.3em;box-sizing: border-box;text-align: center;}#sk-container-id-1 label.sk-toggleable__label-arrow:before {content: \"▸\";float: left;margin-right: 0.25em;color: #696969;}#sk-container-id-1 label.sk-toggleable__label-arrow:hover:before {color: black;}#sk-container-id-1 div.sk-estimator:hover label.sk-toggleable__label-arrow:before {color: black;}#sk-container-id-1 div.sk-toggleable__content {max-height: 0;max-width: 0;overflow: hidden;text-align: left;background-color: #f0f8ff;}#sk-container-id-1 div.sk-toggleable__content pre {margin: 0.2em;color: black;border-radius: 0.25em;background-color: #f0f8ff;}#sk-container-id-1 input.sk-toggleable__control:checked~div.sk-toggleable__content {max-height: 200px;max-width: 100%;overflow: auto;}#sk-container-id-1 input.sk-toggleable__control:checked~label.sk-toggleable__label-arrow:before {content: \"▾\";}#sk-container-id-1 div.sk-estimator input.sk-toggleable__control:checked~label.sk-toggleable__label {background-color: #d4ebff;}#sk-container-id-1 div.sk-label input.sk-toggleable__control:checked~label.sk-toggleable__label {background-color: #d4ebff;}#sk-container-id-1 input.sk-hidden--visually {border: 0;clip: rect(1px 1px 1px 1px);clip: rect(1px, 1px, 1px, 1px);height: 1px;margin: -1px;overflow: hidden;padding: 0;position: absolute;width: 1px;}#sk-container-id-1 div.sk-estimator {font-family: monospace;background-color: #f0f8ff;border: 1px dotted black;border-radius: 0.25em;box-sizing: border-box;margin-bottom: 0.5em;}#sk-container-id-1 div.sk-estimator:hover {background-color: #d4ebff;}#sk-container-id-1 div.sk-parallel-item::after {content: \"\";width: 100%;border-bottom: 1px solid gray;flex-grow: 1;}#sk-container-id-1 div.sk-label:hover label.sk-toggleable__label {background-color: #d4ebff;}#sk-container-id-1 div.sk-serial::before {content: \"\";position: absolute;border-left: 1px solid gray;box-sizing: border-box;top: 0;bottom: 0;left: 50%;z-index: 0;}#sk-container-id-1 div.sk-serial {display: flex;flex-direction: column;align-items: center;background-color: white;padding-right: 0.2em;padding-left: 0.2em;position: relative;}#sk-container-id-1 div.sk-item {position: relative;z-index: 1;}#sk-container-id-1 div.sk-parallel {display: flex;align-items: stretch;justify-content: center;background-color: white;position: relative;}#sk-container-id-1 div.sk-item::before, #sk-container-id-1 div.sk-parallel-item::before {content: \"\";position: absolute;border-left: 1px solid gray;box-sizing: border-box;top: 0;bottom: 0;left: 50%;z-index: -1;}#sk-container-id-1 div.sk-parallel-item {display: flex;flex-direction: column;z-index: 1;position: relative;background-color: white;}#sk-container-id-1 div.sk-parallel-item:first-child::after {align-self: flex-end;width: 50%;}#sk-container-id-1 div.sk-parallel-item:last-child::after {align-self: flex-start;width: 50%;}#sk-container-id-1 div.sk-parallel-item:only-child::after {width: 0;}#sk-container-id-1 div.sk-dashed-wrapped {border: 1px dashed gray;margin: 0 0.4em 0.5em 0.4em;box-sizing: border-box;padding-bottom: 0.4em;background-color: white;}#sk-container-id-1 div.sk-label label {font-family: monospace;font-weight: bold;display: inline-block;line-height: 1.2em;}#sk-container-id-1 div.sk-label-container {text-align: center;}#sk-container-id-1 div.sk-container {/* jupyter's `normalize.less` sets `[hidden] { display: none; }` but bootstrap.min.css set `[hidden] { display: none !important; }` so we also need the `!important` here to be able to override the default hidden behavior on the sphinx rendered scikit-learn.org. See: https://github.com/scikit-learn/scikit-learn/issues/21755 */display: inline-block !important;position: relative;}#sk-container-id-1 div.sk-text-repr-fallback {display: none;}</style><div id=\"sk-container-id-1\" class=\"sk-top-container\"><div class=\"sk-text-repr-fallback\"><pre>XGBClassifier(base_score=None, booster=&#x27;gbtree&#x27;, callbacks=None,\n",
              "              colsample_bylevel=None, colsample_bynode=None,\n",
              "              colsample_bytree=None, device=None, early_stopping_rounds=None,\n",
              "              enable_categorical=False, eval_metric=None, feature_types=None,\n",
              "              gamma=None, grow_policy=None, importance_type=None,\n",
              "              interaction_constraints=None, learning_rate=0.8, max_bin=None,\n",
              "              max_cat_threshold=None, max_cat_to_onehot=None,\n",
              "              max_delta_step=None, max_depth=6, max_leaves=None,\n",
              "              min_child_weight=None, missing=nan, monotone_constraints=None,\n",
              "              multi_strategy=None, n_estimators=2, n_jobs=None,\n",
              "              num_parallel_tree=None, objective=&#x27;multi:softprob&#x27;, ...)</pre><b>In a Jupyter environment, please rerun this cell to show the HTML representation or trust the notebook. <br />On GitHub, the HTML representation is unable to render, please try loading this page with nbviewer.org.</b></div><div class=\"sk-container\" hidden><div class=\"sk-item\"><div class=\"sk-estimator sk-toggleable\"><input class=\"sk-toggleable__control sk-hidden--visually\" id=\"sk-estimator-id-1\" type=\"checkbox\" checked><label for=\"sk-estimator-id-1\" class=\"sk-toggleable__label sk-toggleable__label-arrow\">XGBClassifier</label><div class=\"sk-toggleable__content\"><pre>XGBClassifier(base_score=None, booster=&#x27;gbtree&#x27;, callbacks=None,\n",
              "              colsample_bylevel=None, colsample_bynode=None,\n",
              "              colsample_bytree=None, device=None, early_stopping_rounds=None,\n",
              "              enable_categorical=False, eval_metric=None, feature_types=None,\n",
              "              gamma=None, grow_policy=None, importance_type=None,\n",
              "              interaction_constraints=None, learning_rate=0.8, max_bin=None,\n",
              "              max_cat_threshold=None, max_cat_to_onehot=None,\n",
              "              max_delta_step=None, max_depth=6, max_leaves=None,\n",
              "              min_child_weight=None, missing=nan, monotone_constraints=None,\n",
              "              multi_strategy=None, n_estimators=2, n_jobs=None,\n",
              "              num_parallel_tree=None, objective=&#x27;multi:softprob&#x27;, ...)</pre></div></div></div></div></div>"
            ],
            "text/plain": [
              "XGBClassifier(base_score=None, booster='gbtree', callbacks=None,\n",
              "              colsample_bylevel=None, colsample_bynode=None,\n",
              "              colsample_bytree=None, device=None, early_stopping_rounds=None,\n",
              "              enable_categorical=False, eval_metric=None, feature_types=None,\n",
              "              gamma=None, grow_policy=None, importance_type=None,\n",
              "              interaction_constraints=None, learning_rate=0.8, max_bin=None,\n",
              "              max_cat_threshold=None, max_cat_to_onehot=None,\n",
              "              max_delta_step=None, max_depth=6, max_leaves=None,\n",
              "              min_child_weight=None, missing=nan, monotone_constraints=None,\n",
              "              multi_strategy=None, n_estimators=2, n_jobs=None,\n",
              "              num_parallel_tree=None, objective='multi:softprob', ...)"
            ]
          },
          "execution_count": 21,
          "metadata": {},
          "output_type": "execute_result"
        }
      ],
      "source": [
        "from xgboost import XGBClassifier\n",
        "\n",
        "bst = XGBClassifier(n_estimators=2,learning_rate=0.8, booster='gbtree', max_depth=6)\n",
        "bst.fit(X_train_scaled, y_train)"
      ]
    },
    {
      "cell_type": "code",
      "execution_count": 22,
      "metadata": {},
      "outputs": [
        {
          "name": "stdout",
          "output_type": "stream",
          "text": [
            "--- XGB --- \n",
            "Accuracy:  60 \n",
            "F1:  53 \n",
            "Recall:  53 \n",
            "Precision:  55\n"
          ]
        }
      ],
      "source": [
        "X=bst.score(X_test_scaled, y_test)\n",
        "test_predictions = bst.predict(X_test_scaled)\n",
        "accuracy, f1, recall, precision = get_metrics(y_test, test_predictions)\n",
        "print('--- XGB --- \\nAccuracy: ', round(accuracy*100), '\\nF1: ', round(f1*100), '\\nRecall: ', round(recall*100), '\\nPrecision: ', round(precision*100))\n"
      ]
    },
    {
      "cell_type": "code",
      "execution_count": 23,
      "metadata": {},
      "outputs": [
        {
          "name": "stdout",
          "output_type": "stream",
          "text": [
            "--- LDA --- \n",
            "Accuracy:  56 \n",
            "F1:  46 \n",
            "Recall:  48 \n",
            "Precision:  49\n"
          ]
        }
      ],
      "source": [
        "from sklearn.discriminant_analysis import LinearDiscriminantAnalysis\n",
        "lda = LinearDiscriminantAnalysis(solver='svd')\n",
        "\n",
        "lda.fit(X_train_scaled, y_train)\n",
        "test_predictions = lda.predict(X_test_scaled)\n",
        "accuracy, f1, recall, precision = get_metrics(y_test, test_predictions)\n",
        "print('--- LDA --- \\nAccuracy: ', round(accuracy*100), '\\nF1: ', round(f1*100), '\\nRecall: ', round(recall*100), '\\nPrecision: ', round(precision*100))\n"
      ]
    },
    {
      "cell_type": "code",
      "execution_count": 24,
      "metadata": {},
      "outputs": [
        {
          "name": "stdout",
          "output_type": "stream",
          "text": [
            "--- MLP --- \n",
            "Accuracy:  67 \n",
            "F1:  62 \n",
            "Recall:  62 \n",
            "Precision:  62\n"
          ]
        }
      ],
      "source": [
        "from sklearn.neural_network import MLPClassifier\n",
        "mlp_classifier = MLPClassifier(hidden_layer_sizes=(150, 100, 50), activation='relu', solver='adam', max_iter=300, batch_size=200)\n",
        "mlp_classifier.out_activation_ = 'softmax'\n",
        "\n",
        "mlp_classifier.fit(X_train_scaled, y_train)\n",
        "test_predictions = mlp_classifier.predict(X_test_scaled)\n",
        "\n",
        "accuracy, f1, recall, precision = get_metrics(y_test, test_predictions)\n",
        "print('--- MLP --- \\nAccuracy: ', round(accuracy*100), '\\nF1: ', round(f1*100), '\\nRecall: ', round(recall*100), '\\nPrecision: ', round(precision*100))"
      ]
    }
  ],
  "metadata": {
    "colab": {
      "provenance": []
    },
    "kernelspec": {
      "display_name": "Python 3",
      "name": "python3"
    },
    "language_info": {
      "codemirror_mode": {
        "name": "ipython",
        "version": 3
      },
      "file_extension": ".py",
      "mimetype": "text/x-python",
      "name": "python",
      "nbconvert_exporter": "python",
      "pygments_lexer": "ipython3",
      "version": "3.11.3"
    }
  },
  "nbformat": 4,
  "nbformat_minor": 0
}
